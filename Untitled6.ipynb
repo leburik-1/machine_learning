{
  "nbformat": 4,
  "nbformat_minor": 0,
  "metadata": {
    "colab": {
      "provenance": [],
      "authorship_tag": "ABX9TyONUYm+k7uBoLZHJ3zOnDCT",
      "include_colab_link": true
    },
    "kernelspec": {
      "name": "python3",
      "display_name": "Python 3"
    },
    "language_info": {
      "name": "python"
    }
  },
  "cells": [
    {
      "cell_type": "markdown",
      "metadata": {
        "id": "view-in-github",
        "colab_type": "text"
      },
      "source": [
        "<a href=\"https://colab.research.google.com/github/leburik-1/machine_learning/blob/main/Untitled6.ipynb\" target=\"_parent\"><img src=\"https://colab.research.google.com/assets/colab-badge.svg\" alt=\"Open In Colab\"/></a>"
      ]
    },
    {
      "cell_type": "code",
      "execution_count": 7,
      "metadata": {
        "id": "mTs2er6CbHbk"
      },
      "outputs": [],
      "source": [
        "import torch\n",
        "import requests\n",
        "import imageio\n",
        "import os"
      ]
    },
    {
      "cell_type": "code",
      "source": [
        "url = \"https://raw.githubusercontent.com/deep-learning-with-pytorch/dlwpt-code/master/data/p1ch4/image-dog/bobby.jpg\"\n",
        "file_name = \"bobby.jpg\"\n",
        "\n",
        "# Download the image using streaming\n",
        "response = requests.get(url, stream=True)\n",
        "response.raise_for_status()\n",
        "\n",
        "# save the image\n",
        "with open(file_name, \"wb\") as file:\n",
        "  for chunk in response.iter_content(chunk_size=8192): # Efficient chunk download\n",
        "    file.write(chunk)\n",
        "\n",
        "img_arr = imageio.imread(file_name)\n",
        "img_arr.shape\n",
        "img = torch.from_numpy(img_arr)\n",
        "out = img.permute(2, 0, 1)\n",
        "\n",
        "batch_size = 3\n",
        "batch = torch.zeros(batch_size, 3, 256,256,dtype=torch.uint8)\n",
        "\n",
        "data_dir = \"/image-cats\"\n",
        "os.makedirs(data_dir, exist_ok=True)\n",
        "\n",
        "filenames = [\n",
        "    \"cat1.png\",\n",
        "    \"cat2.png\",\n",
        "    \"cat3.png\"\n",
        "]\n",
        "\n",
        "base_url = \"https://raw.githubusercontent.com/deep-learning-with-pytorch/dlwpt-code/master/data/p1ch4/image-cats/\"\n",
        "\n",
        "# download all files\n",
        "for filename in filenames:\n",
        "  url = base_url + filename\n",
        "  response = requests.get(url, stream=True)\n",
        "\n",
        "  if response.status_code == 200:\n",
        "    with open(os.path.join(data_dir, filename), \"wb\") as file:\n",
        "      for chunk in response.iter_content(1024):\n",
        "        file.write(chunk)\n",
        "    print(f\"Downloaded: {filename}\")\n",
        "  else:\n",
        "    print(f\"Failed to download: {filename}\")\n",
        "\n",
        "\n",
        "\n",
        "filenames = [name for name in os.listdir(data_dir) if name.endswith(\".png\")]\n",
        "batch = torch.zeros(batch_size, 3, 256, 256, dtype=torch.uint8)\n",
        "\n",
        "for filename in filenames:\n",
        "  img_arr = imageio.imread(os.path.join(data_dir, filename))\n",
        "  img_t = torch.from_numpy(img_arr)\n",
        "  # rearrange channes (H, W, C) -> (C, H, W)\n",
        "  img_t = img_t.permute(2,0,1)\n",
        "  img_t = img_t[:3]  # keep only first 3 channels (ignore alpha)\n",
        "  batch.append(img_t)\n",
        "\n",
        "batch\n",
        "\n",
        "# normalization\n",
        "n_channels = batch.shape[1]\n",
        "for c in range(n_channels):\n",
        "  mean = torch.mean(batch[:, c])\n",
        "  std = torch.std(batch[:, c])\n",
        "  batch[:, c] = (batch[:, c] - mean) / std\n"
      ],
      "metadata": {
        "colab": {
          "base_uri": "https://localhost:8080/",
          "height": 352
        },
        "id": "_S9t9n_BbZ-i",
        "outputId": "0ca6a6aa-c315-4e77-bdc9-6c45a648851e"
      },
      "execution_count": 17,
      "outputs": [
        {
          "output_type": "stream",
          "name": "stderr",
          "text": [
            "<ipython-input-17-537ca935b2ee>:13: DeprecationWarning: Starting with ImageIO v3 the behavior of this function will switch to that of iio.v3.imread. To keep the current behavior (and make this warning disappear) use `import imageio.v2 as imageio` or call `imageio.v2.imread` directly.\n",
            "  img_arr = imageio.imread(file_name)\n"
          ]
        },
        {
          "output_type": "stream",
          "name": "stdout",
          "text": [
            "Downloaded: cat1.png\n",
            "Downloaded: cat2.png\n",
            "Downloaded: cat3.png\n"
          ]
        },
        {
          "output_type": "stream",
          "name": "stderr",
          "text": [
            "<ipython-input-17-537ca935b2ee>:51: DeprecationWarning: Starting with ImageIO v3 the behavior of this function will switch to that of iio.v3.imread. To keep the current behavior (and make this warning disappear) use `import imageio.v2 as imageio` or call `imageio.v2.imread` directly.\n",
            "  img_arr = imageio.imread(os.path.join(data_dir, filename))\n"
          ]
        },
        {
          "output_type": "error",
          "ename": "AttributeError",
          "evalue": "'Tensor' object has no attribute 'append'",
          "traceback": [
            "\u001b[0;31m---------------------------------------------------------------------------\u001b[0m",
            "\u001b[0;31mAttributeError\u001b[0m                            Traceback (most recent call last)",
            "\u001b[0;32m<ipython-input-17-537ca935b2ee>\u001b[0m in \u001b[0;36m<cell line: 0>\u001b[0;34m()\u001b[0m\n\u001b[1;32m     54\u001b[0m   \u001b[0mimg_t\u001b[0m \u001b[0;34m=\u001b[0m \u001b[0mimg_t\u001b[0m\u001b[0;34m.\u001b[0m\u001b[0mpermute\u001b[0m\u001b[0;34m(\u001b[0m\u001b[0;36m2\u001b[0m\u001b[0;34m,\u001b[0m\u001b[0;36m0\u001b[0m\u001b[0;34m,\u001b[0m\u001b[0;36m1\u001b[0m\u001b[0;34m)\u001b[0m\u001b[0;34m\u001b[0m\u001b[0;34m\u001b[0m\u001b[0m\n\u001b[1;32m     55\u001b[0m   \u001b[0mimg_t\u001b[0m \u001b[0;34m=\u001b[0m \u001b[0mimg_t\u001b[0m\u001b[0;34m[\u001b[0m\u001b[0;34m:\u001b[0m\u001b[0;36m3\u001b[0m\u001b[0;34m]\u001b[0m  \u001b[0;31m# keep only first 3 channels (ignore alpha)\u001b[0m\u001b[0;34m\u001b[0m\u001b[0;34m\u001b[0m\u001b[0m\n\u001b[0;32m---> 56\u001b[0;31m   \u001b[0mbatch\u001b[0m\u001b[0;34m.\u001b[0m\u001b[0mappend\u001b[0m\u001b[0;34m(\u001b[0m\u001b[0mimg_t\u001b[0m\u001b[0;34m)\u001b[0m\u001b[0;34m\u001b[0m\u001b[0;34m\u001b[0m\u001b[0m\n\u001b[0m\u001b[1;32m     57\u001b[0m \u001b[0;34m\u001b[0m\u001b[0m\n\u001b[1;32m     58\u001b[0m \u001b[0mbatch\u001b[0m\u001b[0;34m\u001b[0m\u001b[0;34m\u001b[0m\u001b[0m\n",
            "\u001b[0;31mAttributeError\u001b[0m: 'Tensor' object has no attribute 'append'"
          ]
        }
      ]
    },
    {
      "cell_type": "code",
      "source": [
        "!apt-get install subversion -q"
      ],
      "metadata": {
        "colab": {
          "base_uri": "https://localhost:8080/"
        },
        "collapsed": true,
        "id": "G5zVVYMFdJ7y",
        "outputId": "d6e6c8f0-29f0-4ef2-b196-49da7691f42f"
      },
      "execution_count": 18,
      "outputs": [
        {
          "output_type": "stream",
          "name": "stdout",
          "text": [
            "Reading package lists...\n",
            "Building dependency tree...\n",
            "Reading state information...\n",
            "The following additional packages will be installed:\n",
            "  libapr1 libaprutil1 libserf-1-1 libsvn1 libutf8proc2\n",
            "Suggested packages:\n",
            "  db5.3-util libapache2-mod-svn subversion-tools\n",
            "The following NEW packages will be installed:\n",
            "  libapr1 libaprutil1 libserf-1-1 libsvn1 libutf8proc2 subversion\n",
            "0 upgraded, 6 newly installed, 0 to remove and 29 not upgraded.\n",
            "Need to get 2,672 kB of archives.\n",
            "After this operation, 10.5 MB of additional disk space will be used.\n",
            "Get:1 http://archive.ubuntu.com/ubuntu jammy-updates/main amd64 libapr1 amd64 1.7.0-8ubuntu0.22.04.2 [108 kB]\n",
            "Get:2 http://archive.ubuntu.com/ubuntu jammy-updates/main amd64 libaprutil1 amd64 1.6.1-5ubuntu4.22.04.2 [92.8 kB]\n",
            "Get:3 http://archive.ubuntu.com/ubuntu jammy/universe amd64 libserf-1-1 amd64 1.3.9-10ubuntu2 [50.0 kB]\n",
            "Get:4 http://archive.ubuntu.com/ubuntu jammy/universe amd64 libutf8proc2 amd64 2.7.0-3 [73.9 kB]\n",
            "Get:5 http://archive.ubuntu.com/ubuntu jammy-updates/universe amd64 libsvn1 amd64 1.14.1-3ubuntu0.22.04.1 [1,387 kB]\n",
            "Get:6 http://archive.ubuntu.com/ubuntu jammy-updates/universe amd64 subversion amd64 1.14.1-3ubuntu0.22.04.1 [960 kB]\n",
            "Fetched 2,672 kB in 0s (6,524 kB/s)\n",
            "Selecting previously unselected package libapr1:amd64.\n",
            "(Reading database ... 124947 files and directories currently installed.)\n",
            "Preparing to unpack .../0-libapr1_1.7.0-8ubuntu0.22.04.2_amd64.deb ...\n",
            "Unpacking libapr1:amd64 (1.7.0-8ubuntu0.22.04.2) ...\n",
            "Selecting previously unselected package libaprutil1:amd64.\n",
            "Preparing to unpack .../1-libaprutil1_1.6.1-5ubuntu4.22.04.2_amd64.deb ...\n",
            "Unpacking libaprutil1:amd64 (1.6.1-5ubuntu4.22.04.2) ...\n",
            "Selecting previously unselected package libserf-1-1:amd64.\n",
            "Preparing to unpack .../2-libserf-1-1_1.3.9-10ubuntu2_amd64.deb ...\n",
            "Unpacking libserf-1-1:amd64 (1.3.9-10ubuntu2) ...\n",
            "Selecting previously unselected package libutf8proc2:amd64.\n",
            "Preparing to unpack .../3-libutf8proc2_2.7.0-3_amd64.deb ...\n",
            "Unpacking libutf8proc2:amd64 (2.7.0-3) ...\n",
            "Selecting previously unselected package libsvn1:amd64.\n",
            "Preparing to unpack .../4-libsvn1_1.14.1-3ubuntu0.22.04.1_amd64.deb ...\n",
            "Unpacking libsvn1:amd64 (1.14.1-3ubuntu0.22.04.1) ...\n",
            "Selecting previously unselected package subversion.\n",
            "Preparing to unpack .../5-subversion_1.14.1-3ubuntu0.22.04.1_amd64.deb ...\n",
            "Unpacking subversion (1.14.1-3ubuntu0.22.04.1) ...\n",
            "Setting up libutf8proc2:amd64 (2.7.0-3) ...\n",
            "Setting up libapr1:amd64 (1.7.0-8ubuntu0.22.04.2) ...\n",
            "Setting up libaprutil1:amd64 (1.6.1-5ubuntu4.22.04.2) ...\n",
            "Setting up libserf-1-1:amd64 (1.3.9-10ubuntu2) ...\n",
            "Setting up libsvn1:amd64 (1.14.1-3ubuntu0.22.04.1) ...\n",
            "Setting up subversion (1.14.1-3ubuntu0.22.04.1) ...\n",
            "Processing triggers for libc-bin (2.35-0ubuntu3.8) ...\n",
            "/sbin/ldconfig.real: /usr/local/lib/libtbbmalloc_proxy.so.2 is not a symbolic link\n",
            "\n",
            "/sbin/ldconfig.real: /usr/local/lib/libtbbbind.so.3 is not a symbolic link\n",
            "\n",
            "/sbin/ldconfig.real: /usr/local/lib/libur_adapter_level_zero.so.0 is not a symbolic link\n",
            "\n",
            "/sbin/ldconfig.real: /usr/local/lib/libtbbbind_2_5.so.3 is not a symbolic link\n",
            "\n",
            "/sbin/ldconfig.real: /usr/local/lib/libtbbmalloc.so.2 is not a symbolic link\n",
            "\n",
            "/sbin/ldconfig.real: /usr/local/lib/libur_loader.so.0 is not a symbolic link\n",
            "\n",
            "/sbin/ldconfig.real: /usr/local/lib/libumf.so.0 is not a symbolic link\n",
            "\n",
            "/sbin/ldconfig.real: /usr/local/lib/libtbbbind_2_0.so.3 is not a symbolic link\n",
            "\n",
            "/sbin/ldconfig.real: /usr/local/lib/libhwloc.so.15 is not a symbolic link\n",
            "\n",
            "/sbin/ldconfig.real: /usr/local/lib/libtcm_debug.so.1 is not a symbolic link\n",
            "\n",
            "/sbin/ldconfig.real: /usr/local/lib/libur_adapter_opencl.so.0 is not a symbolic link\n",
            "\n",
            "/sbin/ldconfig.real: /usr/local/lib/libtbb.so.12 is not a symbolic link\n",
            "\n",
            "/sbin/ldconfig.real: /usr/local/lib/libtcm.so.1 is not a symbolic link\n",
            "\n",
            "Processing triggers for man-db (2.10.2-1) ...\n"
          ]
        }
      ]
    },
    {
      "cell_type": "code",
      "source": [],
      "metadata": {
        "colab": {
          "base_uri": "https://localhost:8080/"
        },
        "id": "mgzC8y8g2PUe",
        "outputId": "14b4a11c-2553-4b8d-b0e5-ccf783a4de1c"
      },
      "execution_count": 20,
      "outputs": [
        {
          "output_type": "stream",
          "name": "stdout",
          "text": [
            "Type 'svn help' for usage.\n"
          ]
        }
      ]
    },
    {
      "cell_type": "code",
      "source": [
        "!svn export https://github.com/deep-learning-with-pytorch/dlwpt-code/trunk/data/p1ch4/volumetric-dicom/2-LUNG%203.0%20%20B70f-04083\n"
      ],
      "metadata": {
        "colab": {
          "base_uri": "https://localhost:8080/"
        },
        "id": "ersepfNm2ZiF",
        "outputId": "977313a0-0e4a-4ba4-c78d-35e42c839681"
      },
      "execution_count": 21,
      "outputs": [
        {
          "output_type": "stream",
          "name": "stdout",
          "text": [
            "svn: E170013: Unable to connect to a repository at URL 'https://github.com/deep-learning-with-pytorch/dlwpt-code/trunk/data/p1ch4/volumetric-dicom/2-LUNG%203.0%20%20B70f-04083'\n",
            "svn: E160013: '/deep-learning-with-pytorch/dlwpt-code/trunk/data/p1ch4/volumetric-dicom/2-LUNG%203.0%20%20B70f-04083' path not found\n"
          ]
        }
      ]
    },
    {
      "cell_type": "code",
      "source": [
        "!svn export https://github.com/deep-learning-with-pytorch/dlwpt-code/tree/master/data/p1ch4/volumetric-dicom/2-LUNG%203.0%20%20B70f-04083"
      ],
      "metadata": {
        "colab": {
          "base_uri": "https://localhost:8080/"
        },
        "id": "FGmZBMaa2kdm",
        "outputId": "34916020-0d91-4525-e3d8-f049a70997eb"
      },
      "execution_count": 22,
      "outputs": [
        {
          "output_type": "stream",
          "name": "stdout",
          "text": [
            "svn: E170013: Unable to connect to a repository at URL 'https://github.com/deep-learning-with-pytorch/dlwpt-code/tree/master/data/p1ch4/volumetric-dicom/2-LUNG%203.0%20%20B70f-04083'\n",
            "svn: E160013: '/deep-learning-with-pytorch/dlwpt-code/tree/master/data/p1ch4/volumetric-dicom/2-LUNG%203.0%20%20B70f-04083' path not found\n"
          ]
        }
      ]
    },
    {
      "cell_type": "code",
      "source": [
        "!git clone https://github.com/deep-learning-with-pytorch/dlwpt-code.git"
      ],
      "metadata": {
        "colab": {
          "base_uri": "https://localhost:8080/"
        },
        "id": "D1aM35l82ovX",
        "outputId": "5079759e-4df8-49f1-f684-6a069a4d9cd3"
      },
      "execution_count": 23,
      "outputs": [
        {
          "output_type": "stream",
          "name": "stdout",
          "text": [
            "Cloning into 'dlwpt-code'...\n",
            "remote: Enumerating objects: 706, done.\u001b[K\n",
            "remote: Counting objects: 100% (150/150), done.\u001b[K\n",
            "remote: Compressing objects: 100% (63/63), done.\u001b[K\n",
            "remote: Total 706 (delta 107), reused 87 (delta 87), pack-reused 556 (from 2)\u001b[K\n",
            "Receiving objects: 100% (706/706), 175.17 MiB | 20.53 MiB/s, done.\n",
            "Resolving deltas: 100% (319/319), done.\n",
            "Updating files: 100% (228/228), done.\n"
          ]
        }
      ]
    },
    {
      "cell_type": "code",
      "source": [
        "!ls"
      ],
      "metadata": {
        "colab": {
          "base_uri": "https://localhost:8080/"
        },
        "id": "hRWp-AWm3cI8",
        "outputId": "dbd0d0de-bd16-4357-e1ee-a0153fbda4c4"
      },
      "execution_count": 24,
      "outputs": [
        {
          "output_type": "stream",
          "name": "stdout",
          "text": [
            "bobby.jpg  dlwpt-code  sample_data\n"
          ]
        }
      ]
    },
    {
      "cell_type": "code",
      "source": [
        "!cd dlwpt-code"
      ],
      "metadata": {
        "id": "1AUBvcxW355u"
      },
      "execution_count": 25,
      "outputs": []
    },
    {
      "cell_type": "code",
      "source": [
        "!ls"
      ],
      "metadata": {
        "colab": {
          "base_uri": "https://localhost:8080/"
        },
        "id": "TO02sGBt39Ch",
        "outputId": "fe31168d-8d03-4011-f418-3e31ddce7c7e"
      },
      "execution_count": 26,
      "outputs": [
        {
          "output_type": "stream",
          "name": "stdout",
          "text": [
            "bobby.jpg  dlwpt-code  sample_data\n"
          ]
        }
      ]
    },
    {
      "cell_type": "code",
      "source": [
        "source_dir = \"dlwpt-code/tree/master/data/p1ch4/volumetric-dicom/2-LUNG 3.0  B70f-04083\"\n",
        "destination_dir = \"LUNG_DATA\"\n",
        "\n",
        "import glob\n",
        "\n",
        "base_dir = \"dlwpt-code/data/p1ch4/volumetric-dicom\"\n",
        "folders = glob.glob(base_dir + \"/*\")\n",
        "\n",
        "print(\"Found directories:\", folders)\n"
      ],
      "metadata": {
        "colab": {
          "base_uri": "https://localhost:8080/"
        },
        "collapsed": true,
        "id": "0avhC54p3-qi",
        "outputId": "b4023cc9-5895-4f6b-d2d9-90aafc03c307"
      },
      "execution_count": 37,
      "outputs": [
        {
          "output_type": "stream",
          "name": "stdout",
          "text": [
            "Found directories: []\n"
          ]
        }
      ]
    },
    {
      "cell_type": "code",
      "source": [
        "!wget -o dlwpt-code.zip https://github.com/deep-learning-with-pytorch/dlwpt-code/archive/refs/heads/master.zip"
      ],
      "metadata": {
        "id": "9o60_tJA4Jzc"
      },
      "execution_count": 38,
      "outputs": []
    },
    {
      "cell_type": "code",
      "source": [
        "!curl -L -o dlwpt-code.zip https://github.com/deep-learning-with-pytorch/dlwpt-code/archive/refs/heads/master.zip\n",
        ""
      ],
      "metadata": {
        "colab": {
          "base_uri": "https://localhost:8080/"
        },
        "id": "BHeTi49i8enz",
        "outputId": "0d04fecb-e12e-406c-d606-e918164a6a5e"
      },
      "execution_count": 41,
      "outputs": [
        {
          "output_type": "stream",
          "name": "stdout",
          "text": [
            "  % Total    % Received % Xferd  Average Speed   Time    Time     Time  Current\n",
            "                                 Dload  Upload   Total   Spent    Left  Speed\n",
            "  0     0    0     0    0     0      0      0 --:--:-- --:--:-- --:--:--     0\n",
            "100  171M    0  171M    0     0  11.1M      0 --:--:--  0:00:15 --:--:-- 11.0M\n"
          ]
        }
      ]
    },
    {
      "cell_type": "code",
      "source": [
        "!unzip -q dlwpt-code.zip -d ."
      ],
      "metadata": {
        "id": "hLUafmQj8kmr"
      },
      "execution_count": 42,
      "outputs": []
    },
    {
      "cell_type": "code",
      "source": [
        "!ls"
      ],
      "metadata": {
        "colab": {
          "base_uri": "https://localhost:8080/"
        },
        "id": "g8IZyBtl9PUC",
        "outputId": "58298b78-94ca-442d-8827-0758afdc571f"
      },
      "execution_count": 43,
      "outputs": [
        {
          "output_type": "stream",
          "name": "stdout",
          "text": [
            "bobby.jpg  dlwpt-code  dlwpt-code-master  dlwpt-code.zip  LUNG_DATA  master.zip  sample_data\n"
          ]
        }
      ]
    },
    {
      "cell_type": "code",
      "source": [
        "%cd dlwpt-code-master"
      ],
      "metadata": {
        "colab": {
          "base_uri": "https://localhost:8080/"
        },
        "id": "fNx6mb5S9VBO",
        "outputId": "7d4cd209-8433-44e3-db39-00391c1e3049"
      },
      "execution_count": 44,
      "outputs": [
        {
          "output_type": "stream",
          "name": "stdout",
          "text": [
            "/content/dlwpt-code-master\n"
          ]
        }
      ]
    },
    {
      "cell_type": "code",
      "source": [
        "!ls -R data/p1ch4/volumetric-dicom"
      ],
      "metadata": {
        "colab": {
          "base_uri": "https://localhost:8080/"
        },
        "id": "r1CJ4qi59iMX",
        "outputId": "45a79ab1-f9b8-4f14-a085-e0ab3b4beb0a"
      },
      "execution_count": 45,
      "outputs": [
        {
          "output_type": "stream",
          "name": "stdout",
          "text": [
            "data/p1ch4/volumetric-dicom:\n",
            "'2-LUNG 3.0  B70f-04083'\n",
            "\n",
            "'data/p1ch4/volumetric-dicom/2-LUNG 3.0  B70f-04083':\n",
            "000000.dcm  000013.dcm\t000026.dcm  000039.dcm\t000052.dcm  000065.dcm\t000078.dcm  000091.dcm\n",
            "000001.dcm  000014.dcm\t000027.dcm  000040.dcm\t000053.dcm  000066.dcm\t000079.dcm  000092.dcm\n",
            "000002.dcm  000015.dcm\t000028.dcm  000041.dcm\t000054.dcm  000067.dcm\t000080.dcm  000093.dcm\n",
            "000003.dcm  000016.dcm\t000029.dcm  000042.dcm\t000055.dcm  000068.dcm\t000081.dcm  000094.dcm\n",
            "000004.dcm  000017.dcm\t000030.dcm  000043.dcm\t000056.dcm  000069.dcm\t000082.dcm  000095.dcm\n",
            "000005.dcm  000018.dcm\t000031.dcm  000044.dcm\t000057.dcm  000070.dcm\t000083.dcm  000096.dcm\n",
            "000006.dcm  000019.dcm\t000032.dcm  000045.dcm\t000058.dcm  000071.dcm\t000084.dcm  000097.dcm\n",
            "000007.dcm  000020.dcm\t000033.dcm  000046.dcm\t000059.dcm  000072.dcm\t000085.dcm  000098.dcm\n",
            "000008.dcm  000021.dcm\t000034.dcm  000047.dcm\t000060.dcm  000073.dcm\t000086.dcm\n",
            "000009.dcm  000022.dcm\t000035.dcm  000048.dcm\t000061.dcm  000074.dcm\t000087.dcm\n",
            "000010.dcm  000023.dcm\t000036.dcm  000049.dcm\t000062.dcm  000075.dcm\t000088.dcm\n",
            "000011.dcm  000024.dcm\t000037.dcm  000050.dcm\t000063.dcm  000076.dcm\t000089.dcm\n",
            "000012.dcm  000025.dcm\t000038.dcm  000051.dcm\t000064.dcm  000077.dcm\t000090.dcm\n"
          ]
        }
      ]
    },
    {
      "cell_type": "code",
      "source": [
        "import imageio\n",
        "import csv\n",
        "import numpy as np"
      ],
      "metadata": {
        "id": "ihOmpSp_9oyh"
      },
      "execution_count": 49,
      "outputs": []
    },
    {
      "cell_type": "code",
      "source": [
        "dir_path = \"data/p1ch4/volumetric-dicom/2-LUNG 3.0  B70f-04083\"\n",
        "vol_arr = imageio.volread(dir_path, 'DICOM')\n",
        "vol_arr.shape"
      ],
      "metadata": {
        "colab": {
          "base_uri": "https://localhost:8080/"
        },
        "id": "4jqT1UGi98PH",
        "outputId": "ed3c1d7e-4359-4be2-ff3a-4aaeea6a4a49"
      },
      "execution_count": 47,
      "outputs": [
        {
          "output_type": "stream",
          "name": "stdout",
          "text": [
            "Reading DICOM (examining files): 1/99 files (1.0%)\b\b\b\b\b\b\b\b\b\b\b\b\b\b\b\b\b99/99 files (100.0%)\n",
            "  Found 1 correct series.\n",
            "Reading DICOM (loading data): 59/99  (59.6%)\b\b\b\b\b\b\b\b\b\b\b\b\b\b99/99  (100.0%)\n"
          ]
        },
        {
          "output_type": "execute_result",
          "data": {
            "text/plain": [
              "(99, 512, 512)"
            ]
          },
          "metadata": {},
          "execution_count": 47
        }
      ]
    },
    {
      "cell_type": "code",
      "source": [
        "vol = torch.from_numpy(vol_arr).float()\n",
        "vol = torch.unsqueeze(vol, 0)\n",
        "vol.shape"
      ],
      "metadata": {
        "colab": {
          "base_uri": "https://localhost:8080/"
        },
        "id": "8bvQgMIA-Jvt",
        "outputId": "d806087a-f727-4bc7-8ee9-f6046bbf0f63"
      },
      "execution_count": 48,
      "outputs": [
        {
          "output_type": "execute_result",
          "data": {
            "text/plain": [
              "torch.Size([1, 99, 512, 512])"
            ]
          },
          "metadata": {},
          "execution_count": 48
        }
      ]
    },
    {
      "cell_type": "code",
      "source": [
        "url = \"https://archive.ics.uci.edu/ml/machine-learning-databases/wine-quality/winequality-white.csv\"\n",
        "file_name = \"winequality-white.csv\"\n",
        "\n",
        "response = requests.get(url, stream=True)\n",
        "\n",
        "with open(file_name, \"wb\") as file:\n",
        "  for chunk in response.iter_content(chunk_size=8192):\n",
        "    file.write(chunk)\n",
        "\n",
        "wineq_numpy = np.loadtxt(file_name, dtype=np.float32, delimiter=\";\", skiprows=1)\n",
        "wineq_numpy"
      ],
      "metadata": {
        "colab": {
          "base_uri": "https://localhost:8080/"
        },
        "id": "BAY7AZTQ-3uf",
        "outputId": "cdac89af-349c-42fd-9e5a-a53efda8a12c"
      },
      "execution_count": 50,
      "outputs": [
        {
          "output_type": "execute_result",
          "data": {
            "text/plain": [
              "array([[ 7.  ,  0.27,  0.36, ...,  0.45,  8.8 ,  6.  ],\n",
              "       [ 6.3 ,  0.3 ,  0.34, ...,  0.49,  9.5 ,  6.  ],\n",
              "       [ 8.1 ,  0.28,  0.4 , ...,  0.44, 10.1 ,  6.  ],\n",
              "       ...,\n",
              "       [ 6.5 ,  0.24,  0.19, ...,  0.46,  9.4 ,  6.  ],\n",
              "       [ 5.5 ,  0.29,  0.3 , ...,  0.38, 12.8 ,  7.  ],\n",
              "       [ 6.  ,  0.21,  0.38, ...,  0.32, 11.8 ,  6.  ]], dtype=float32)"
            ]
          },
          "metadata": {},
          "execution_count": 50
        }
      ]
    },
    {
      "cell_type": "code",
      "source": [],
      "metadata": {
        "id": "IyXlEHNfB1Mb"
      },
      "execution_count": null,
      "outputs": []
    }
  ]
}