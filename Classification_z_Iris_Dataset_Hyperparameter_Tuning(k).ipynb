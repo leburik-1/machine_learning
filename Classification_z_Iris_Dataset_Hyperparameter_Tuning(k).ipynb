{
  "nbformat": 4,
  "nbformat_minor": 0,
  "metadata": {
    "colab": {
      "provenance": [],
      "authorship_tag": "ABX9TyNvjTLVQR2F1s5CjKBmC/69",
      "include_colab_link": true
    },
    "kernelspec": {
      "name": "python3",
      "display_name": "Python 3"
    },
    "language_info": {
      "name": "python"
    }
  },
  "cells": [
    {
      "cell_type": "markdown",
      "metadata": {
        "id": "view-in-github",
        "colab_type": "text"
      },
      "source": [
        "<a href=\"https://colab.research.google.com/github/leburik-1/machine_learning/blob/main/Classification_z_Iris_Dataset_Hyperparameter_Tuning(k).ipynb\" target=\"_parent\"><img src=\"https://colab.research.google.com/assets/colab-badge.svg\" alt=\"Open In Colab\"/></a>"
      ]
    },
    {
      "cell_type": "code",
      "execution_count": null,
      "metadata": {
        "id": "kWMlGUL4c4p4"
      },
      "outputs": [],
      "source": [
        "import numpy as np\n",
        "from sklearn.datasets import load_iris\n",
        "import matplotlib.pyplot as plt\n",
        "from sklearn.model_selection import KFold, cross_val_score\n",
        "from sklearn.neighbors import KNeighborsClassifier"
      ]
    },
    {
      "cell_type": "code",
      "source": [
        "iris = load_iris()\n",
        "X = iris.data\n",
        "y = iris.target\n",
        "y"
      ],
      "metadata": {
        "colab": {
          "base_uri": "https://localhost:8080/"
        },
        "id": "GPSAm6TZfgcF",
        "outputId": "520224d2-f9a4-4f26-9ee5-a68850b63fdb"
      },
      "execution_count": null,
      "outputs": [
        {
          "output_type": "execute_result",
          "data": {
            "text/plain": [
              "array([0, 0, 0, 0, 0, 0, 0, 0, 0, 0, 0, 0, 0, 0, 0, 0, 0, 0, 0, 0, 0, 0,\n",
              "       0, 0, 0, 0, 0, 0, 0, 0, 0, 0, 0, 0, 0, 0, 0, 0, 0, 0, 0, 0, 0, 0,\n",
              "       0, 0, 0, 0, 0, 0, 1, 1, 1, 1, 1, 1, 1, 1, 1, 1, 1, 1, 1, 1, 1, 1,\n",
              "       1, 1, 1, 1, 1, 1, 1, 1, 1, 1, 1, 1, 1, 1, 1, 1, 1, 1, 1, 1, 1, 1,\n",
              "       1, 1, 1, 1, 1, 1, 1, 1, 1, 1, 1, 1, 2, 2, 2, 2, 2, 2, 2, 2, 2, 2,\n",
              "       2, 2, 2, 2, 2, 2, 2, 2, 2, 2, 2, 2, 2, 2, 2, 2, 2, 2, 2, 2, 2, 2,\n",
              "       2, 2, 2, 2, 2, 2, 2, 2, 2, 2, 2, 2, 2, 2, 2, 2, 2, 2])"
            ]
          },
          "metadata": {},
          "execution_count": 5
        }
      ]
    },
    {
      "cell_type": "code",
      "source": [
        "kf = KFold(n_splits=5, shuffle=True, random_state=42)\n",
        "\n",
        "k_values = range(1,21)\n",
        "accuracy_scores = []\n",
        "\n",
        "for k in k_values:\n",
        "  knn = KNeighborsClassifier(n_neighbors=k)\n",
        "  scores = cross_val_score(knn, X, y, cv=kf, scoring='accuracy')\n",
        "  accuracy_scores.append(scores.mean())\n",
        "\n",
        "best_k = k_values[np.argmax(accuracy_scores)]\n",
        "best_accuracy = max(accuracy_scores)\n",
        "\n",
        "print(f'Best k: {best_k}')\n",
        "print(f'Accuracy : {best_accuracy}')\n"
      ],
      "metadata": {
        "colab": {
          "base_uri": "https://localhost:8080/"
        },
        "id": "Avtzzgw0flWg",
        "outputId": "f26d0df9-e186-4f1f-96ae-02fd287be1cb"
      },
      "execution_count": null,
      "outputs": [
        {
          "output_type": "stream",
          "name": "stdout",
          "text": [
            "Best k: 13\n",
            "Accuracy : 0.9800000000000001\n"
          ]
        }
      ]
    },
    {
      "cell_type": "code",
      "source": [
        "# k_values = range(1, 21)  # Testing k from 1 to 20\n",
        "# accuracy_scores = []\n",
        "\n",
        "# for k in k_values:\n",
        "#     knn = KNeighborsClassifier(n_neighbors=k)  # Define KNN model\n",
        "#     scores = cross_val_score(knn, X, y, cv=kf, scoring='accuracy')  # Cross-validation\n",
        "#     accuracy_scores.append(scores.mean())  # Store mean accuracy\n",
        "\n",
        "# # Find the best k\n",
        "# best_k = k_values[np.argmax(accuracy_scores)]\n",
        "# best_accuracy = max(accuracy_scores)"
      ],
      "metadata": {
        "id": "NG7y7LrYf81d"
      },
      "execution_count": null,
      "outputs": []
    }
  ]
}