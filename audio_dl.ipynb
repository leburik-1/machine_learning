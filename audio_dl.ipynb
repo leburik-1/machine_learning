{
  "nbformat": 4,
  "nbformat_minor": 0,
  "metadata": {
    "colab": {
      "provenance": [],
      "authorship_tag": "ABX9TyNbHSRYXymDFWAunU/7V50i",
      "include_colab_link": true
    },
    "kernelspec": {
      "name": "python3",
      "display_name": "Python 3"
    },
    "language_info": {
      "name": "python"
    }
  },
  "cells": [
    {
      "cell_type": "markdown",
      "metadata": {
        "id": "view-in-github",
        "colab_type": "text"
      },
      "source": [
        "<a href=\"https://colab.research.google.com/github/leburik-1/machine_learning/blob/main/audio_dl.ipynb\" target=\"_parent\"><img src=\"https://colab.research.google.com/assets/colab-badge.svg\" alt=\"Open In Colab\"/></a>"
      ]
    },
    {
      "cell_type": "code",
      "execution_count": 79,
      "metadata": {
        "id": "mTs2er6CbHbk"
      },
      "outputs": [],
      "source": [
        "import torch\n",
        "import requests\n",
        "import imageio\n",
        "import os"
      ]
    },
    {
      "cell_type": "code",
      "source": [
        "url = \"https://raw.githubusercontent.com/deep-learning-with-pytorch/dlwpt-code/master/data/p1ch4/image-dog/bobby.jpg\"\n",
        "file_name = \"bobby.jpg\"\n",
        "\n",
        "# Download the image using streaming\n",
        "response = requests.get(url, stream=True)\n",
        "response.raise_for_status()\n",
        "\n",
        "# save the image\n",
        "with open(file_name, \"wb\") as file:\n",
        "  for chunk in response.iter_content(chunk_size=8192): # Efficient chunk download\n",
        "    file.write(chunk)\n",
        "\n",
        "img_arr = imageio.imread(file_name)\n",
        "img_arr.shape\n",
        "img = torch.from_numpy(img_arr)\n",
        "out = img.permute(2, 0, 1)\n",
        "\n",
        "batch_size = 3\n",
        "batch = torch.zeros(batch_size, 3, 256,256,dtype=torch.uint8)\n",
        "\n",
        "data_dir = \"/image-cats\"\n",
        "os.makedirs(data_dir, exist_ok=True)\n",
        "\n",
        "filenames = [\n",
        "    \"cat1.png\",\n",
        "    \"cat2.png\",\n",
        "    \"cat3.png\"\n",
        "]\n",
        "\n",
        "base_url = \"https://raw.githubusercontent.com/deep-learning-with-pytorch/dlwpt-code/master/data/p1ch4/image-cats/\"\n",
        "\n",
        "# download all files\n",
        "for filename in filenames:\n",
        "  url = base_url + filename\n",
        "  response = requests.get(url, stream=True)\n",
        "\n",
        "  if response.status_code == 200:\n",
        "    with open(os.path.join(data_dir, filename), \"wb\") as file:\n",
        "      for chunk in response.iter_content(1024):\n",
        "        file.write(chunk)\n",
        "    print(f\"Downloaded: {filename}\")\n",
        "  else:\n",
        "    print(f\"Failed to download: {filename}\")\n",
        "\n",
        "\n",
        "\n",
        "filenames = [name for name in os.listdir(data_dir) if name.endswith(\".png\")]\n",
        "batch = torch.zeros(batch_size, 3, 256, 256, dtype=torch.uint8)\n",
        "\n",
        "for filename in filenames:\n",
        "  img_arr = imageio.imread(os.path.join(data_dir, filename))\n",
        "  img_t = torch.from_numpy(img_arr)\n",
        "  # rearrange channes (H, W, C) -> (C, H, W)\n",
        "  img_t = img_t.permute(2,0,1)\n",
        "  img_t = img_t[:3]  # keep only first 3 channels (ignore alpha)\n",
        "  batch.append(img_t)\n",
        "\n",
        "batch\n",
        "\n",
        "# normalization\n",
        "n_channels = batch.shape[1]\n",
        "for c in range(n_channels):\n",
        "  mean = torch.mean(batch[:, c])\n",
        "  std = torch.std(batch[:, c])\n",
        "  batch[:, c] = (batch[:, c] - mean) / std\n"
      ],
      "metadata": {
        "colab": {
          "base_uri": "https://localhost:8080/",
          "height": 352
        },
        "id": "_S9t9n_BbZ-i",
        "outputId": "0ca6a6aa-c315-4e77-bdc9-6c45a648851e"
      },
      "execution_count": null,
      "outputs": [
        {
          "output_type": "stream",
          "name": "stderr",
          "text": [
            "<ipython-input-17-537ca935b2ee>:13: DeprecationWarning: Starting with ImageIO v3 the behavior of this function will switch to that of iio.v3.imread. To keep the current behavior (and make this warning disappear) use `import imageio.v2 as imageio` or call `imageio.v2.imread` directly.\n",
            "  img_arr = imageio.imread(file_name)\n"
          ]
        },
        {
          "output_type": "stream",
          "name": "stdout",
          "text": [
            "Downloaded: cat1.png\n",
            "Downloaded: cat2.png\n",
            "Downloaded: cat3.png\n"
          ]
        },
        {
          "output_type": "stream",
          "name": "stderr",
          "text": [
            "<ipython-input-17-537ca935b2ee>:51: DeprecationWarning: Starting with ImageIO v3 the behavior of this function will switch to that of iio.v3.imread. To keep the current behavior (and make this warning disappear) use `import imageio.v2 as imageio` or call `imageio.v2.imread` directly.\n",
            "  img_arr = imageio.imread(os.path.join(data_dir, filename))\n"
          ]
        },
        {
          "output_type": "error",
          "ename": "AttributeError",
          "evalue": "'Tensor' object has no attribute 'append'",
          "traceback": [
            "\u001b[0;31m---------------------------------------------------------------------------\u001b[0m",
            "\u001b[0;31mAttributeError\u001b[0m                            Traceback (most recent call last)",
            "\u001b[0;32m<ipython-input-17-537ca935b2ee>\u001b[0m in \u001b[0;36m<cell line: 0>\u001b[0;34m()\u001b[0m\n\u001b[1;32m     54\u001b[0m   \u001b[0mimg_t\u001b[0m \u001b[0;34m=\u001b[0m \u001b[0mimg_t\u001b[0m\u001b[0;34m.\u001b[0m\u001b[0mpermute\u001b[0m\u001b[0;34m(\u001b[0m\u001b[0;36m2\u001b[0m\u001b[0;34m,\u001b[0m\u001b[0;36m0\u001b[0m\u001b[0;34m,\u001b[0m\u001b[0;36m1\u001b[0m\u001b[0;34m)\u001b[0m\u001b[0;34m\u001b[0m\u001b[0;34m\u001b[0m\u001b[0m\n\u001b[1;32m     55\u001b[0m   \u001b[0mimg_t\u001b[0m \u001b[0;34m=\u001b[0m \u001b[0mimg_t\u001b[0m\u001b[0;34m[\u001b[0m\u001b[0;34m:\u001b[0m\u001b[0;36m3\u001b[0m\u001b[0;34m]\u001b[0m  \u001b[0;31m# keep only first 3 channels (ignore alpha)\u001b[0m\u001b[0;34m\u001b[0m\u001b[0;34m\u001b[0m\u001b[0m\n\u001b[0;32m---> 56\u001b[0;31m   \u001b[0mbatch\u001b[0m\u001b[0;34m.\u001b[0m\u001b[0mappend\u001b[0m\u001b[0;34m(\u001b[0m\u001b[0mimg_t\u001b[0m\u001b[0;34m)\u001b[0m\u001b[0;34m\u001b[0m\u001b[0;34m\u001b[0m\u001b[0m\n\u001b[0m\u001b[1;32m     57\u001b[0m \u001b[0;34m\u001b[0m\u001b[0m\n\u001b[1;32m     58\u001b[0m \u001b[0mbatch\u001b[0m\u001b[0;34m\u001b[0m\u001b[0;34m\u001b[0m\u001b[0m\n",
            "\u001b[0;31mAttributeError\u001b[0m: 'Tensor' object has no attribute 'append'"
          ]
        }
      ]
    },
    {
      "cell_type": "code",
      "source": [
        "!apt-get install subversion -q"
      ],
      "metadata": {
        "colab": {
          "base_uri": "https://localhost:8080/"
        },
        "collapsed": true,
        "id": "G5zVVYMFdJ7y",
        "outputId": "d6e6c8f0-29f0-4ef2-b196-49da7691f42f"
      },
      "execution_count": null,
      "outputs": [
        {
          "output_type": "stream",
          "name": "stdout",
          "text": [
            "Reading package lists...\n",
            "Building dependency tree...\n",
            "Reading state information...\n",
            "The following additional packages will be installed:\n",
            "  libapr1 libaprutil1 libserf-1-1 libsvn1 libutf8proc2\n",
            "Suggested packages:\n",
            "  db5.3-util libapache2-mod-svn subversion-tools\n",
            "The following NEW packages will be installed:\n",
            "  libapr1 libaprutil1 libserf-1-1 libsvn1 libutf8proc2 subversion\n",
            "0 upgraded, 6 newly installed, 0 to remove and 29 not upgraded.\n",
            "Need to get 2,672 kB of archives.\n",
            "After this operation, 10.5 MB of additional disk space will be used.\n",
            "Get:1 http://archive.ubuntu.com/ubuntu jammy-updates/main amd64 libapr1 amd64 1.7.0-8ubuntu0.22.04.2 [108 kB]\n",
            "Get:2 http://archive.ubuntu.com/ubuntu jammy-updates/main amd64 libaprutil1 amd64 1.6.1-5ubuntu4.22.04.2 [92.8 kB]\n",
            "Get:3 http://archive.ubuntu.com/ubuntu jammy/universe amd64 libserf-1-1 amd64 1.3.9-10ubuntu2 [50.0 kB]\n",
            "Get:4 http://archive.ubuntu.com/ubuntu jammy/universe amd64 libutf8proc2 amd64 2.7.0-3 [73.9 kB]\n",
            "Get:5 http://archive.ubuntu.com/ubuntu jammy-updates/universe amd64 libsvn1 amd64 1.14.1-3ubuntu0.22.04.1 [1,387 kB]\n",
            "Get:6 http://archive.ubuntu.com/ubuntu jammy-updates/universe amd64 subversion amd64 1.14.1-3ubuntu0.22.04.1 [960 kB]\n",
            "Fetched 2,672 kB in 0s (6,524 kB/s)\n",
            "Selecting previously unselected package libapr1:amd64.\n",
            "(Reading database ... 124947 files and directories currently installed.)\n",
            "Preparing to unpack .../0-libapr1_1.7.0-8ubuntu0.22.04.2_amd64.deb ...\n",
            "Unpacking libapr1:amd64 (1.7.0-8ubuntu0.22.04.2) ...\n",
            "Selecting previously unselected package libaprutil1:amd64.\n",
            "Preparing to unpack .../1-libaprutil1_1.6.1-5ubuntu4.22.04.2_amd64.deb ...\n",
            "Unpacking libaprutil1:amd64 (1.6.1-5ubuntu4.22.04.2) ...\n",
            "Selecting previously unselected package libserf-1-1:amd64.\n",
            "Preparing to unpack .../2-libserf-1-1_1.3.9-10ubuntu2_amd64.deb ...\n",
            "Unpacking libserf-1-1:amd64 (1.3.9-10ubuntu2) ...\n",
            "Selecting previously unselected package libutf8proc2:amd64.\n",
            "Preparing to unpack .../3-libutf8proc2_2.7.0-3_amd64.deb ...\n",
            "Unpacking libutf8proc2:amd64 (2.7.0-3) ...\n",
            "Selecting previously unselected package libsvn1:amd64.\n",
            "Preparing to unpack .../4-libsvn1_1.14.1-3ubuntu0.22.04.1_amd64.deb ...\n",
            "Unpacking libsvn1:amd64 (1.14.1-3ubuntu0.22.04.1) ...\n",
            "Selecting previously unselected package subversion.\n",
            "Preparing to unpack .../5-subversion_1.14.1-3ubuntu0.22.04.1_amd64.deb ...\n",
            "Unpacking subversion (1.14.1-3ubuntu0.22.04.1) ...\n",
            "Setting up libutf8proc2:amd64 (2.7.0-3) ...\n",
            "Setting up libapr1:amd64 (1.7.0-8ubuntu0.22.04.2) ...\n",
            "Setting up libaprutil1:amd64 (1.6.1-5ubuntu4.22.04.2) ...\n",
            "Setting up libserf-1-1:amd64 (1.3.9-10ubuntu2) ...\n",
            "Setting up libsvn1:amd64 (1.14.1-3ubuntu0.22.04.1) ...\n",
            "Setting up subversion (1.14.1-3ubuntu0.22.04.1) ...\n",
            "Processing triggers for libc-bin (2.35-0ubuntu3.8) ...\n",
            "/sbin/ldconfig.real: /usr/local/lib/libtbbmalloc_proxy.so.2 is not a symbolic link\n",
            "\n",
            "/sbin/ldconfig.real: /usr/local/lib/libtbbbind.so.3 is not a symbolic link\n",
            "\n",
            "/sbin/ldconfig.real: /usr/local/lib/libur_adapter_level_zero.so.0 is not a symbolic link\n",
            "\n",
            "/sbin/ldconfig.real: /usr/local/lib/libtbbbind_2_5.so.3 is not a symbolic link\n",
            "\n",
            "/sbin/ldconfig.real: /usr/local/lib/libtbbmalloc.so.2 is not a symbolic link\n",
            "\n",
            "/sbin/ldconfig.real: /usr/local/lib/libur_loader.so.0 is not a symbolic link\n",
            "\n",
            "/sbin/ldconfig.real: /usr/local/lib/libumf.so.0 is not a symbolic link\n",
            "\n",
            "/sbin/ldconfig.real: /usr/local/lib/libtbbbind_2_0.so.3 is not a symbolic link\n",
            "\n",
            "/sbin/ldconfig.real: /usr/local/lib/libhwloc.so.15 is not a symbolic link\n",
            "\n",
            "/sbin/ldconfig.real: /usr/local/lib/libtcm_debug.so.1 is not a symbolic link\n",
            "\n",
            "/sbin/ldconfig.real: /usr/local/lib/libur_adapter_opencl.so.0 is not a symbolic link\n",
            "\n",
            "/sbin/ldconfig.real: /usr/local/lib/libtbb.so.12 is not a symbolic link\n",
            "\n",
            "/sbin/ldconfig.real: /usr/local/lib/libtcm.so.1 is not a symbolic link\n",
            "\n",
            "Processing triggers for man-db (2.10.2-1) ...\n"
          ]
        }
      ]
    },
    {
      "cell_type": "code",
      "source": [],
      "metadata": {
        "colab": {
          "base_uri": "https://localhost:8080/"
        },
        "id": "mgzC8y8g2PUe",
        "outputId": "14b4a11c-2553-4b8d-b0e5-ccf783a4de1c"
      },
      "execution_count": null,
      "outputs": [
        {
          "output_type": "stream",
          "name": "stdout",
          "text": [
            "Type 'svn help' for usage.\n"
          ]
        }
      ]
    },
    {
      "cell_type": "code",
      "source": [
        "!svn export https://github.com/deep-learning-with-pytorch/dlwpt-code/trunk/data/p1ch4/volumetric-dicom/2-LUNG%203.0%20%20B70f-04083\n"
      ],
      "metadata": {
        "colab": {
          "base_uri": "https://localhost:8080/"
        },
        "id": "ersepfNm2ZiF",
        "outputId": "977313a0-0e4a-4ba4-c78d-35e42c839681"
      },
      "execution_count": null,
      "outputs": [
        {
          "output_type": "stream",
          "name": "stdout",
          "text": [
            "svn: E170013: Unable to connect to a repository at URL 'https://github.com/deep-learning-with-pytorch/dlwpt-code/trunk/data/p1ch4/volumetric-dicom/2-LUNG%203.0%20%20B70f-04083'\n",
            "svn: E160013: '/deep-learning-with-pytorch/dlwpt-code/trunk/data/p1ch4/volumetric-dicom/2-LUNG%203.0%20%20B70f-04083' path not found\n"
          ]
        }
      ]
    },
    {
      "cell_type": "code",
      "source": [
        "!svn export https://github.com/deep-learning-with-pytorch/dlwpt-code/tree/master/data/p1ch4/volumetric-dicom/2-LUNG%203.0%20%20B70f-04083"
      ],
      "metadata": {
        "colab": {
          "base_uri": "https://localhost:8080/"
        },
        "id": "FGmZBMaa2kdm",
        "outputId": "34916020-0d91-4525-e3d8-f049a70997eb"
      },
      "execution_count": null,
      "outputs": [
        {
          "output_type": "stream",
          "name": "stdout",
          "text": [
            "svn: E170013: Unable to connect to a repository at URL 'https://github.com/deep-learning-with-pytorch/dlwpt-code/tree/master/data/p1ch4/volumetric-dicom/2-LUNG%203.0%20%20B70f-04083'\n",
            "svn: E160013: '/deep-learning-with-pytorch/dlwpt-code/tree/master/data/p1ch4/volumetric-dicom/2-LUNG%203.0%20%20B70f-04083' path not found\n"
          ]
        }
      ]
    },
    {
      "cell_type": "code",
      "source": [
        "!git clone https://github.com/deep-learning-with-pytorch/dlwpt-code.git"
      ],
      "metadata": {
        "colab": {
          "base_uri": "https://localhost:8080/"
        },
        "id": "D1aM35l82ovX",
        "outputId": "5079759e-4df8-49f1-f684-6a069a4d9cd3"
      },
      "execution_count": null,
      "outputs": [
        {
          "output_type": "stream",
          "name": "stdout",
          "text": [
            "Cloning into 'dlwpt-code'...\n",
            "remote: Enumerating objects: 706, done.\u001b[K\n",
            "remote: Counting objects: 100% (150/150), done.\u001b[K\n",
            "remote: Compressing objects: 100% (63/63), done.\u001b[K\n",
            "remote: Total 706 (delta 107), reused 87 (delta 87), pack-reused 556 (from 2)\u001b[K\n",
            "Receiving objects: 100% (706/706), 175.17 MiB | 20.53 MiB/s, done.\n",
            "Resolving deltas: 100% (319/319), done.\n",
            "Updating files: 100% (228/228), done.\n"
          ]
        }
      ]
    },
    {
      "cell_type": "code",
      "source": [
        "!ls"
      ],
      "metadata": {
        "colab": {
          "base_uri": "https://localhost:8080/"
        },
        "id": "hRWp-AWm3cI8",
        "outputId": "dbd0d0de-bd16-4357-e1ee-a0153fbda4c4"
      },
      "execution_count": null,
      "outputs": [
        {
          "output_type": "stream",
          "name": "stdout",
          "text": [
            "bobby.jpg  dlwpt-code  sample_data\n"
          ]
        }
      ]
    },
    {
      "cell_type": "code",
      "source": [
        "!cd dlwpt-code"
      ],
      "metadata": {
        "id": "1AUBvcxW355u"
      },
      "execution_count": null,
      "outputs": []
    },
    {
      "cell_type": "code",
      "source": [
        "!ls"
      ],
      "metadata": {
        "colab": {
          "base_uri": "https://localhost:8080/"
        },
        "id": "TO02sGBt39Ch",
        "outputId": "fe31168d-8d03-4011-f418-3e31ddce7c7e"
      },
      "execution_count": null,
      "outputs": [
        {
          "output_type": "stream",
          "name": "stdout",
          "text": [
            "bobby.jpg  dlwpt-code  sample_data\n"
          ]
        }
      ]
    },
    {
      "cell_type": "code",
      "source": [
        "source_dir = \"dlwpt-code/tree/master/data/p1ch4/volumetric-dicom/2-LUNG 3.0  B70f-04083\"\n",
        "destination_dir = \"LUNG_DATA\"\n",
        "\n",
        "import glob\n",
        "\n",
        "base_dir = \"dlwpt-code/data/p1ch4/volumetric-dicom\"\n",
        "folders = glob.glob(base_dir + \"/*\")\n",
        "\n",
        "print(\"Found directories:\", folders)\n"
      ],
      "metadata": {
        "colab": {
          "base_uri": "https://localhost:8080/"
        },
        "collapsed": true,
        "id": "0avhC54p3-qi",
        "outputId": "b4023cc9-5895-4f6b-d2d9-90aafc03c307"
      },
      "execution_count": null,
      "outputs": [
        {
          "output_type": "stream",
          "name": "stdout",
          "text": [
            "Found directories: []\n"
          ]
        }
      ]
    },
    {
      "cell_type": "code",
      "source": [
        "!wget -o dlwpt-code.zip https://github.com/deep-learning-with-pytorch/dlwpt-code/archive/refs/heads/master.zip"
      ],
      "metadata": {
        "id": "9o60_tJA4Jzc"
      },
      "execution_count": null,
      "outputs": []
    },
    {
      "cell_type": "code",
      "source": [
        "!curl -L -o dlwpt-code.zip https://github.com/deep-learning-with-pytorch/dlwpt-code/archive/refs/heads/master.zip\n"
      ],
      "metadata": {
        "colab": {
          "base_uri": "https://localhost:8080/"
        },
        "id": "BHeTi49i8enz",
        "outputId": "0d04fecb-e12e-406c-d606-e918164a6a5e"
      },
      "execution_count": null,
      "outputs": [
        {
          "output_type": "stream",
          "name": "stdout",
          "text": [
            "  % Total    % Received % Xferd  Average Speed   Time    Time     Time  Current\n",
            "                                 Dload  Upload   Total   Spent    Left  Speed\n",
            "  0     0    0     0    0     0      0      0 --:--:-- --:--:-- --:--:--     0\n",
            "100  171M    0  171M    0     0  11.1M      0 --:--:--  0:00:15 --:--:-- 11.0M\n"
          ]
        }
      ]
    },
    {
      "cell_type": "code",
      "source": [
        "!unzip -q dlwpt-code.zip -d ."
      ],
      "metadata": {
        "id": "hLUafmQj8kmr"
      },
      "execution_count": null,
      "outputs": []
    },
    {
      "cell_type": "code",
      "source": [
        "!ls"
      ],
      "metadata": {
        "colab": {
          "base_uri": "https://localhost:8080/"
        },
        "id": "g8IZyBtl9PUC",
        "outputId": "58298b78-94ca-442d-8827-0758afdc571f"
      },
      "execution_count": null,
      "outputs": [
        {
          "output_type": "stream",
          "name": "stdout",
          "text": [
            "bobby.jpg  dlwpt-code  dlwpt-code-master  dlwpt-code.zip  LUNG_DATA  master.zip  sample_data\n"
          ]
        }
      ]
    },
    {
      "cell_type": "code",
      "source": [
        "%cd dlwpt-code-master"
      ],
      "metadata": {
        "colab": {
          "base_uri": "https://localhost:8080/"
        },
        "id": "fNx6mb5S9VBO",
        "outputId": "7d4cd209-8433-44e3-db39-00391c1e3049"
      },
      "execution_count": null,
      "outputs": [
        {
          "output_type": "stream",
          "name": "stdout",
          "text": [
            "/content/dlwpt-code-master\n"
          ]
        }
      ]
    },
    {
      "cell_type": "code",
      "source": [
        "!ls -R data/p1ch4/volumetric-dicom"
      ],
      "metadata": {
        "colab": {
          "base_uri": "https://localhost:8080/"
        },
        "id": "r1CJ4qi59iMX",
        "outputId": "45a79ab1-f9b8-4f14-a085-e0ab3b4beb0a"
      },
      "execution_count": null,
      "outputs": [
        {
          "output_type": "stream",
          "name": "stdout",
          "text": [
            "data/p1ch4/volumetric-dicom:\n",
            "'2-LUNG 3.0  B70f-04083'\n",
            "\n",
            "'data/p1ch4/volumetric-dicom/2-LUNG 3.0  B70f-04083':\n",
            "000000.dcm  000013.dcm\t000026.dcm  000039.dcm\t000052.dcm  000065.dcm\t000078.dcm  000091.dcm\n",
            "000001.dcm  000014.dcm\t000027.dcm  000040.dcm\t000053.dcm  000066.dcm\t000079.dcm  000092.dcm\n",
            "000002.dcm  000015.dcm\t000028.dcm  000041.dcm\t000054.dcm  000067.dcm\t000080.dcm  000093.dcm\n",
            "000003.dcm  000016.dcm\t000029.dcm  000042.dcm\t000055.dcm  000068.dcm\t000081.dcm  000094.dcm\n",
            "000004.dcm  000017.dcm\t000030.dcm  000043.dcm\t000056.dcm  000069.dcm\t000082.dcm  000095.dcm\n",
            "000005.dcm  000018.dcm\t000031.dcm  000044.dcm\t000057.dcm  000070.dcm\t000083.dcm  000096.dcm\n",
            "000006.dcm  000019.dcm\t000032.dcm  000045.dcm\t000058.dcm  000071.dcm\t000084.dcm  000097.dcm\n",
            "000007.dcm  000020.dcm\t000033.dcm  000046.dcm\t000059.dcm  000072.dcm\t000085.dcm  000098.dcm\n",
            "000008.dcm  000021.dcm\t000034.dcm  000047.dcm\t000060.dcm  000073.dcm\t000086.dcm\n",
            "000009.dcm  000022.dcm\t000035.dcm  000048.dcm\t000061.dcm  000074.dcm\t000087.dcm\n",
            "000010.dcm  000023.dcm\t000036.dcm  000049.dcm\t000062.dcm  000075.dcm\t000088.dcm\n",
            "000011.dcm  000024.dcm\t000037.dcm  000050.dcm\t000063.dcm  000076.dcm\t000089.dcm\n",
            "000012.dcm  000025.dcm\t000038.dcm  000051.dcm\t000064.dcm  000077.dcm\t000090.dcm\n"
          ]
        }
      ]
    },
    {
      "cell_type": "code",
      "source": [
        "import imageio\n",
        "import csv\n",
        "import numpy as np"
      ],
      "metadata": {
        "id": "ihOmpSp_9oyh"
      },
      "execution_count": null,
      "outputs": []
    },
    {
      "cell_type": "code",
      "source": [
        "dir_path = \"data/p1ch4/volumetric-dicom/2-LUNG 3.0  B70f-04083\"\n",
        "vol_arr = imageio.volread(dir_path, 'DICOM')\n",
        "vol_arr.shape"
      ],
      "metadata": {
        "colab": {
          "base_uri": "https://localhost:8080/"
        },
        "id": "4jqT1UGi98PH",
        "outputId": "ed3c1d7e-4359-4be2-ff3a-4aaeea6a4a49"
      },
      "execution_count": null,
      "outputs": [
        {
          "output_type": "stream",
          "name": "stdout",
          "text": [
            "Reading DICOM (examining files): 1/99 files (1.0%)\b\b\b\b\b\b\b\b\b\b\b\b\b\b\b\b\b99/99 files (100.0%)\n",
            "  Found 1 correct series.\n",
            "Reading DICOM (loading data): 59/99  (59.6%)\b\b\b\b\b\b\b\b\b\b\b\b\b\b99/99  (100.0%)\n"
          ]
        },
        {
          "output_type": "execute_result",
          "data": {
            "text/plain": [
              "(99, 512, 512)"
            ]
          },
          "metadata": {},
          "execution_count": 47
        }
      ]
    },
    {
      "cell_type": "code",
      "source": [
        "vol = torch.from_numpy(vol_arr).float()\n",
        "vol = torch.unsqueeze(vol, 0)\n",
        "vol.shape"
      ],
      "metadata": {
        "colab": {
          "base_uri": "https://localhost:8080/"
        },
        "id": "8bvQgMIA-Jvt",
        "outputId": "d806087a-f727-4bc7-8ee9-f6046bbf0f63"
      },
      "execution_count": null,
      "outputs": [
        {
          "output_type": "execute_result",
          "data": {
            "text/plain": [
              "torch.Size([1, 99, 512, 512])"
            ]
          },
          "metadata": {},
          "execution_count": 48
        }
      ]
    },
    {
      "cell_type": "code",
      "source": [
        "url = \"https://archive.ics.uci.edu/ml/machine-learning-databases/wine-quality/winequality-white.csv\"\n",
        "file_name = \"winequality-white.csv\"\n",
        "\n",
        "response = requests.get(url, stream=True)\n",
        "\n",
        "with open(file_name, \"wb\") as file:\n",
        "  for chunk in response.iter_content(chunk_size=8192):\n",
        "    file.write(chunk)\n",
        "\n",
        "wineq_numpy = np.loadtxt(file_name, dtype=np.float32, delimiter=\";\", skiprows=1)\n",
        "wineq_numpy"
      ],
      "metadata": {
        "colab": {
          "base_uri": "https://localhost:8080/"
        },
        "id": "BAY7AZTQ-3uf",
        "outputId": "7653b371-d3a7-4bf8-8bd2-44c95f544541"
      },
      "execution_count": null,
      "outputs": [
        {
          "output_type": "execute_result",
          "data": {
            "text/plain": [
              "array([[ 7.  ,  0.27,  0.36, ...,  0.45,  8.8 ,  6.  ],\n",
              "       [ 6.3 ,  0.3 ,  0.34, ...,  0.49,  9.5 ,  6.  ],\n",
              "       [ 8.1 ,  0.28,  0.4 , ...,  0.44, 10.1 ,  6.  ],\n",
              "       ...,\n",
              "       [ 6.5 ,  0.24,  0.19, ...,  0.46,  9.4 ,  6.  ],\n",
              "       [ 5.5 ,  0.29,  0.3 , ...,  0.38, 12.8 ,  7.  ],\n",
              "       [ 6.  ,  0.21,  0.38, ...,  0.32, 11.8 ,  6.  ]], dtype=float32)"
            ]
          },
          "metadata": {},
          "execution_count": 3
        }
      ]
    },
    {
      "cell_type": "code",
      "source": [
        "col_list = next(csv.reader(open(file_name), delimiter=\";\"))\n",
        "wineq_numpy.shape, col_list"
      ],
      "metadata": {
        "id": "IyXlEHNfB1Mb",
        "colab": {
          "base_uri": "https://localhost:8080/"
        },
        "outputId": "4b515050-460e-44e6-df2d-b20a603e41a8"
      },
      "execution_count": 30,
      "outputs": [
        {
          "output_type": "execute_result",
          "data": {
            "text/plain": [
              "((4898, 12),\n",
              " ['fixed acidity',\n",
              "  'volatile acidity',\n",
              "  'citric acid',\n",
              "  'residual sugar',\n",
              "  'chlorides',\n",
              "  'free sulfur dioxide',\n",
              "  'total sulfur dioxide',\n",
              "  'density',\n",
              "  'pH',\n",
              "  'sulphates',\n",
              "  'alcohol',\n",
              "  'quality'])"
            ]
          },
          "metadata": {},
          "execution_count": 30
        }
      ]
    },
    {
      "cell_type": "code",
      "source": [
        "wineq = torch.from_numpy(wineq_numpy)\n",
        "wineq.shape, wineq.dtype"
      ],
      "metadata": {
        "colab": {
          "base_uri": "https://localhost:8080/"
        },
        "id": "FEJgTtDJ72aA",
        "outputId": "891efaca-09a9-40ed-e3c4-582376e6fb42"
      },
      "execution_count": null,
      "outputs": [
        {
          "output_type": "execute_result",
          "data": {
            "text/plain": [
              "(torch.Size([4898, 12]), torch.float32)"
            ]
          },
          "metadata": {},
          "execution_count": 6
        }
      ]
    },
    {
      "cell_type": "code",
      "source": [
        "data = wineq[:, :-1]\n",
        "data, data.shape"
      ],
      "metadata": {
        "colab": {
          "base_uri": "https://localhost:8080/"
        },
        "id": "LwMuK5__8Hiw",
        "outputId": "acbd2d86-b5ae-4c7e-a2ba-4ee85485b9a1"
      },
      "execution_count": 11,
      "outputs": [
        {
          "output_type": "execute_result",
          "data": {
            "text/plain": [
              "(tensor([[ 7.0000,  0.2700,  0.3600,  ...,  3.0000,  0.4500,  8.8000],\n",
              "         [ 6.3000,  0.3000,  0.3400,  ...,  3.3000,  0.4900,  9.5000],\n",
              "         [ 8.1000,  0.2800,  0.4000,  ...,  3.2600,  0.4400, 10.1000],\n",
              "         ...,\n",
              "         [ 6.5000,  0.2400,  0.1900,  ...,  2.9900,  0.4600,  9.4000],\n",
              "         [ 5.5000,  0.2900,  0.3000,  ...,  3.3400,  0.3800, 12.8000],\n",
              "         [ 6.0000,  0.2100,  0.3800,  ...,  3.2600,  0.3200, 11.8000]]),\n",
              " torch.Size([4898, 11]))"
            ]
          },
          "metadata": {},
          "execution_count": 11
        }
      ]
    },
    {
      "cell_type": "code",
      "source": [
        "target = wineq[:, -1]\n",
        "target, target.shape"
      ],
      "metadata": {
        "colab": {
          "base_uri": "https://localhost:8080/"
        },
        "id": "nXP8Nivz9e06",
        "outputId": "8d85bea5-32c6-4643-aac7-285e1a00a295"
      },
      "execution_count": null,
      "outputs": [
        {
          "output_type": "execute_result",
          "data": {
            "text/plain": [
              "(tensor([6., 6., 6.,  ..., 6., 7., 6.]), torch.Size([4898]))"
            ]
          },
          "metadata": {},
          "execution_count": 9
        }
      ]
    },
    {
      "cell_type": "code",
      "source": [
        "target = wineq[:, -1].long()\n",
        "target"
      ],
      "metadata": {
        "colab": {
          "base_uri": "https://localhost:8080/"
        },
        "id": "rPY6NhTn-w1L",
        "outputId": "2e092244-ede5-45f3-cc41-e196f5dcf511"
      },
      "execution_count": null,
      "outputs": [
        {
          "output_type": "execute_result",
          "data": {
            "text/plain": [
              "tensor([6, 6, 6,  ..., 6, 7, 6])"
            ]
          },
          "metadata": {},
          "execution_count": 10
        }
      ]
    },
    {
      "cell_type": "code",
      "source": [
        "target.shape\n",
        "# target_unsqueezed = target.unsqueeze(1)\n",
        "# target_unsqueezed.shape"
      ],
      "metadata": {
        "id": "xiaOLvmb_ClQ",
        "colab": {
          "base_uri": "https://localhost:8080/"
        },
        "outputId": "b07917b2-be84-40e8-9c08-89cd00431bcc"
      },
      "execution_count": 15,
      "outputs": [
        {
          "output_type": "execute_result",
          "data": {
            "text/plain": [
              "torch.Size([4898])"
            ]
          },
          "metadata": {},
          "execution_count": 15
        }
      ]
    },
    {
      "cell_type": "code",
      "source": [
        "data_mean = torch.mean(data, dim=0)\n",
        "data_mean"
      ],
      "metadata": {
        "colab": {
          "base_uri": "https://localhost:8080/"
        },
        "id": "A8O4JSYyRRHe",
        "outputId": "b40c7635-d3e7-4352-d71b-9cf353187f27"
      },
      "execution_count": 16,
      "outputs": [
        {
          "output_type": "execute_result",
          "data": {
            "text/plain": [
              "tensor([6.8548e+00, 2.7824e-01, 3.3419e-01, 6.3914e+00, 4.5772e-02, 3.5308e+01,\n",
              "        1.3836e+02, 9.9403e-01, 3.1883e+00, 4.8985e-01, 1.0514e+01])"
            ]
          },
          "metadata": {},
          "execution_count": 16
        }
      ]
    },
    {
      "cell_type": "code",
      "source": [
        "data_var = torch.var(data, dim=0)\n",
        "data_var"
      ],
      "metadata": {
        "colab": {
          "base_uri": "https://localhost:8080/"
        },
        "id": "OHorJmmLVxdt",
        "outputId": "b03063d3-ec73-44dc-8640-a5fba05b2109"
      },
      "execution_count": 17,
      "outputs": [
        {
          "output_type": "execute_result",
          "data": {
            "text/plain": [
              "tensor([7.1211e-01, 1.0160e-02, 1.4646e-02, 2.5726e+01, 4.7733e-04, 2.8924e+02,\n",
              "        1.8061e+03, 8.9455e-06, 2.2801e-02, 1.3025e-02, 1.5144e+00])"
            ]
          },
          "metadata": {},
          "execution_count": 17
        }
      ]
    },
    {
      "cell_type": "code",
      "source": [
        "data_normalized = (data - data_mean) / torch.sqrt(data_var)\n",
        "data_normalized"
      ],
      "metadata": {
        "colab": {
          "base_uri": "https://localhost:8080/"
        },
        "id": "C4ADIbkFV572",
        "outputId": "fe00fa7f-a4bd-4f77-a020-422f00df4c77"
      },
      "execution_count": 18,
      "outputs": [
        {
          "output_type": "execute_result",
          "data": {
            "text/plain": [
              "tensor([[ 1.7208e-01, -8.1761e-02,  2.1326e-01,  ..., -1.2468e+00,\n",
              "         -3.4915e-01, -1.3930e+00],\n",
              "        [-6.5743e-01,  2.1587e-01,  4.7996e-02,  ...,  7.3995e-01,\n",
              "          1.3422e-03, -8.2419e-01],\n",
              "        [ 1.4756e+00,  1.7450e-02,  5.4378e-01,  ...,  4.7505e-01,\n",
              "         -4.3677e-01, -3.3663e-01],\n",
              "        ...,\n",
              "        [-4.2043e-01, -3.7940e-01, -1.1915e+00,  ..., -1.3130e+00,\n",
              "         -2.6153e-01, -9.0545e-01],\n",
              "        [-1.6054e+00,  1.1666e-01, -2.8253e-01,  ...,  1.0049e+00,\n",
              "         -9.6251e-01,  1.8574e+00],\n",
              "        [-1.0129e+00, -6.7703e-01,  3.7852e-01,  ...,  4.7505e-01,\n",
              "         -1.4882e+00,  1.0448e+00]])"
            ]
          },
          "metadata": {},
          "execution_count": 18
        }
      ]
    },
    {
      "cell_type": "code",
      "source": [
        "bad_indexes = target <= 3\n",
        "bad_indexes.shape, bad_indexes.dtype, bad_indexes.sum()"
      ],
      "metadata": {
        "colab": {
          "base_uri": "https://localhost:8080/"
        },
        "id": "YtqknpSNWeKg",
        "outputId": "cd7958c3-23b7-41a7-eda0-c2b359630f0f"
      },
      "execution_count": 19,
      "outputs": [
        {
          "output_type": "execute_result",
          "data": {
            "text/plain": [
              "(torch.Size([4898]), torch.bool, tensor(20))"
            ]
          },
          "metadata": {},
          "execution_count": 19
        }
      ]
    },
    {
      "cell_type": "code",
      "source": [
        "bad_data = data[bad_indexes]\n",
        "bad_data.shape"
      ],
      "metadata": {
        "colab": {
          "base_uri": "https://localhost:8080/"
        },
        "id": "APxGJP6QXDYM",
        "outputId": "12a4a10c-8102-4b65-8f7c-c118f1cfd34b"
      },
      "execution_count": 20,
      "outputs": [
        {
          "output_type": "execute_result",
          "data": {
            "text/plain": [
              "torch.Size([20, 11])"
            ]
          },
          "metadata": {},
          "execution_count": 20
        }
      ]
    },
    {
      "cell_type": "code",
      "source": [
        "bad_data = data[target <= 3]\n",
        "mid_data = data[(target > 3) & (target < 7)]\n",
        "good_data = data[target >= 7]"
      ],
      "metadata": {
        "colab": {
          "base_uri": "https://localhost:8080/"
        },
        "id": "GnSzZxPMcYuC",
        "outputId": "c3aca301-b11f-4de9-9768-0ee03fd7716c"
      },
      "execution_count": 29,
      "outputs": [
        {
          "output_type": "execute_result",
          "data": {
            "text/plain": [
              "torch.Size([1060, 11])"
            ]
          },
          "metadata": {},
          "execution_count": 29
        }
      ]
    },
    {
      "cell_type": "code",
      "source": [
        "bad_mean = torch.mean(bad_data, dim=0)\n",
        "mid_mean = torch.mean(mid_data, dim=0)\n",
        "good_mean = torch.mean(good_data, dim=0)\n",
        "\n",
        "for i, args in enumerate(zip(col_list, bad_mean, mid_mean, good_mean)):\n",
        "  print('{:2} {:20} {:6.2f} {:6.2f} {:6.2f}'.format(i, *args))"
      ],
      "metadata": {
        "colab": {
          "base_uri": "https://localhost:8080/"
        },
        "id": "it9OiNDEceY-",
        "outputId": "fb3499da-171b-4074-e890-8e1a1ccfa148"
      },
      "execution_count": 31,
      "outputs": [
        {
          "output_type": "stream",
          "name": "stdout",
          "text": [
            " 0 fixed acidity          7.60   6.89   6.73\n",
            " 1 volatile acidity       0.33   0.28   0.27\n",
            " 2 citric acid            0.34   0.34   0.33\n",
            " 3 residual sugar         6.39   6.71   5.26\n",
            " 4 chlorides              0.05   0.05   0.04\n",
            " 5 free sulfur dioxide   53.33  35.42  34.55\n",
            " 6 total sulfur dioxide 170.60 141.83 125.25\n",
            " 7 density                0.99   0.99   0.99\n",
            " 8 pH                     3.19   3.18   3.22\n",
            " 9 sulphates              0.47   0.49   0.50\n",
            "10 alcohol               10.34  10.26  11.42\n"
          ]
        }
      ]
    },
    {
      "cell_type": "code",
      "source": [
        "total_sulfur_threshold = 141.83\n",
        "total_sulfur_data = data[:, 6]\n",
        "predicted_indexes = torch.lt(total_sulfur_data, total_sulfur_threshold)\n",
        "predicted_indexes.shape, predicted_indexes.dtype, predicted_indexes.sum()"
      ],
      "metadata": {
        "colab": {
          "base_uri": "https://localhost:8080/"
        },
        "id": "PIDszcClfWUx",
        "outputId": "96e64710-e55a-4806-8622-ef3e155c0d51"
      },
      "execution_count": 32,
      "outputs": [
        {
          "output_type": "execute_result",
          "data": {
            "text/plain": [
              "(torch.Size([4898]), torch.bool, tensor(2727))"
            ]
          },
          "metadata": {},
          "execution_count": 32
        }
      ]
    },
    {
      "cell_type": "code",
      "source": [
        "actual_indexes = target > 5\n",
        "actual_indexes.shape, actual_indexes.dtype, actual_indexes.sum()"
      ],
      "metadata": {
        "colab": {
          "base_uri": "https://localhost:8080/"
        },
        "id": "-q5QhElxgu0Q",
        "outputId": "d0b55805-8c8d-4f54-fab3-160b7f8d8d86"
      },
      "execution_count": 33,
      "outputs": [
        {
          "output_type": "execute_result",
          "data": {
            "text/plain": [
              "(torch.Size([4898]), torch.bool, tensor(3258))"
            ]
          },
          "metadata": {},
          "execution_count": 33
        }
      ]
    },
    {
      "cell_type": "code",
      "source": [
        "n_matches = torch.sum(actual_indexes & predicted_indexes).item()\n",
        "n_predicted = torch.sum(predicted_indexes).item()\n",
        "n_actual = torch.sum(actual_indexes).item()\n",
        "\n",
        "n_matches, n_matches / n_predicted, n_matches / n_actual"
      ],
      "metadata": {
        "colab": {
          "base_uri": "https://localhost:8080/"
        },
        "id": "GbEd3aTnhest",
        "outputId": "970ec0e6-e388-4953-f074-30950259424d"
      },
      "execution_count": 34,
      "outputs": [
        {
          "output_type": "execute_result",
          "data": {
            "text/plain": [
              "(2018, 0.74000733406674, 0.6193984039287906)"
            ]
          },
          "metadata": {},
          "execution_count": 34
        }
      ]
    },
    {
      "cell_type": "code",
      "source": [
        "!curl -L -o bike_sharing.zip  https://archive.ics.uci.edu/static/public/275/bike+sharing+dataset.zip"
      ],
      "metadata": {
        "colab": {
          "base_uri": "https://localhost:8080/"
        },
        "id": "DRgcSjgZkjdw",
        "outputId": "af8b9464-abd5-4b86-f042-d21c9fd8c860"
      },
      "execution_count": 35,
      "outputs": [
        {
          "output_type": "stream",
          "name": "stdout",
          "text": [
            "  % Total    % Received % Xferd  Average Speed   Time    Time     Time  Current\n",
            "                                 Dload  Upload   Total   Spent    Left  Speed\n",
            "100  273k    0  273k    0     0   162k      0 --:--:--  0:00:01 --:--:--  162k\n"
          ]
        }
      ]
    },
    {
      "cell_type": "code",
      "source": [
        "!unzip -q bike_sharing.zip -d ."
      ],
      "metadata": {
        "colab": {
          "base_uri": "https://localhost:8080/"
        },
        "id": "vVtu8SjCmTEd",
        "outputId": "5a822544-9720-485d-947f-81ad2d62906e"
      },
      "execution_count": 38,
      "outputs": [
        {
          "output_type": "stream",
          "name": "stdout",
          "text": [
            "replace ./Readme.txt? [y]es, [n]o, [A]ll, [N]one, [r]ename: n\n",
            "replace ./day.csv? [y]es, [n]o, [A]ll, [N]one, [r]ename: n\n",
            "replace ./hour.csv? [y]es, [n]o, [A]ll, [N]one, [r]ename: n\n"
          ]
        }
      ]
    },
    {
      "cell_type": "code",
      "source": [
        "!unzip -q bike_sharing.zip -d ."
      ],
      "metadata": {
        "colab": {
          "base_uri": "https://localhost:8080/"
        },
        "id": "IG5ECwmHm1fY",
        "outputId": "bd53dec7-5477-4c47-e6ed-59fde8128f46"
      },
      "execution_count": 40,
      "outputs": [
        {
          "output_type": "stream",
          "name": "stdout",
          "text": [
            "replace ./Readme.txt? [y]es, [n]o, [A]ll, [N]one, [r]ename: y\n",
            "replace ./day.csv? [y]es, [n]o, [A]ll, [N]one, [r]ename: y\n",
            "replace ./hour.csv? [y]es, [n]o, [A]ll, [N]one, [r]ename: \n",
            "error:  invalid response [{ENTER}]\n",
            "replace ./hour.csv? [y]es, [n]o, [A]ll, [N]one, [r]ename: N\n"
          ]
        }
      ]
    },
    {
      "cell_type": "code",
      "source": [
        "!ls"
      ],
      "metadata": {
        "colab": {
          "base_uri": "https://localhost:8080/"
        },
        "id": "Km_oFcp4m6eV",
        "outputId": "b91a3555-422c-4e7a-f660-fa7218bcd123"
      },
      "execution_count": 41,
      "outputs": [
        {
          "output_type": "stream",
          "name": "stdout",
          "text": [
            "bike_sharing.zip  day.csv  hour.csv  Readme.txt  sample_data  winequality-white.csv\n"
          ]
        }
      ]
    },
    {
      "cell_type": "code",
      "source": [
        "bikes_numpy = np.loadtxt(\"hour.csv\",\n",
        "                        dtype=np.float32,\n",
        "                        delimiter=\",\",\n",
        "                        skiprows=1,\n",
        "                        converters={1: lambda x: float(x[8:10])})\n",
        "bikes = torch.from_numpy(bikes_numpy)\n",
        "bikes.shape, bikes.stride()"
      ],
      "metadata": {
        "colab": {
          "base_uri": "https://localhost:8080/"
        },
        "id": "06bz0PbznOMK",
        "outputId": "5064cbbe-775e-407d-a9f5-c3b2792e8504"
      },
      "execution_count": 46,
      "outputs": [
        {
          "output_type": "execute_result",
          "data": {
            "text/plain": [
              "(torch.Size([17379, 17]), (17, 1))"
            ]
          },
          "metadata": {},
          "execution_count": 46
        }
      ]
    },
    {
      "cell_type": "code",
      "source": [
        "valid_hours = 724 * 24\n",
        "bikes_trimmed = bikes[:valid_hours] # keep only 17376 rows\n",
        "daily_bikes = bikes_trimmed.view(-1, 24, bikes.shape[1])\n",
        "daily_bikes.shape, daily_bikes.stride()\n",
        "bikes_trimmed.shape"
      ],
      "metadata": {
        "colab": {
          "base_uri": "https://localhost:8080/"
        },
        "id": "7LawiBsvp6UO",
        "outputId": "51868a43-0dbf-496a-9e55-0d5b673cfd7c"
      },
      "execution_count": 61,
      "outputs": [
        {
          "output_type": "execute_result",
          "data": {
            "text/plain": [
              "torch.Size([17376, 17])"
            ]
          },
          "metadata": {},
          "execution_count": 61
        }
      ]
    },
    {
      "cell_type": "code",
      "source": [
        "first_day = bikes_trimmed[:24].long()\n",
        "first_day.shape\n",
        "weather_onehot = torch.zeros(first_day.shape[0], 4)\n",
        "first_day[:, 9]"
      ],
      "metadata": {
        "colab": {
          "base_uri": "https://localhost:8080/"
        },
        "id": "yhj8tBfiv3kA",
        "outputId": "6cf804d0-efd5-40fd-dae7-5102d7bd1bbf"
      },
      "execution_count": 57,
      "outputs": [
        {
          "output_type": "execute_result",
          "data": {
            "text/plain": [
              "tensor([1, 1, 1, 1, 1, 2, 1, 1, 1, 1, 1, 1, 1, 2, 2, 2, 2, 2, 3, 3, 2, 2, 2, 2])"
            ]
          },
          "metadata": {},
          "execution_count": 57
        }
      ]
    },
    {
      "cell_type": "code",
      "source": [
        "  weather_onehot.scatter_(dim=1,\n",
        "                          index=first_day[:, 9].unsqueeze(1).long() - 1,\n",
        "                          value=1.0)"
      ],
      "metadata": {
        "colab": {
          "base_uri": "https://localhost:8080/"
        },
        "collapsed": true,
        "id": "Qm0tnBuyaA_C",
        "outputId": "f1e4a479-516f-4ad5-f092-32eb86da01c5"
      },
      "execution_count": 58,
      "outputs": [
        {
          "output_type": "execute_result",
          "data": {
            "text/plain": [
              "tensor([[1., 0., 0., 0.],\n",
              "        [1., 0., 0., 0.],\n",
              "        [1., 0., 0., 0.],\n",
              "        [1., 0., 0., 0.],\n",
              "        [1., 0., 0., 0.],\n",
              "        [0., 1., 0., 0.],\n",
              "        [1., 0., 0., 0.],\n",
              "        [1., 0., 0., 0.],\n",
              "        [1., 0., 0., 0.],\n",
              "        [1., 0., 0., 0.],\n",
              "        [1., 0., 0., 0.],\n",
              "        [1., 0., 0., 0.],\n",
              "        [1., 0., 0., 0.],\n",
              "        [0., 1., 0., 0.],\n",
              "        [0., 1., 0., 0.],\n",
              "        [0., 1., 0., 0.],\n",
              "        [0., 1., 0., 0.],\n",
              "        [0., 1., 0., 0.],\n",
              "        [0., 0., 1., 0.],\n",
              "        [0., 0., 1., 0.],\n",
              "        [0., 1., 0., 0.],\n",
              "        [0., 1., 0., 0.],\n",
              "        [0., 1., 0., 0.],\n",
              "        [0., 1., 0., 0.]])"
            ]
          },
          "metadata": {},
          "execution_count": 58
        }
      ]
    },
    {
      "cell_type": "code",
      "source": [
        "torch.cat((bikes_trimmed[:24], weather_onehot), 1)[:1]"
      ],
      "metadata": {
        "colab": {
          "base_uri": "https://localhost:8080/"
        },
        "id": "IhNqvqIPggX8",
        "outputId": "c3d07623-b25c-4012-e3cd-2cbe61ee61db"
      },
      "execution_count": 59,
      "outputs": [
        {
          "output_type": "execute_result",
          "data": {
            "text/plain": [
              "tensor([[ 1.0000,  1.0000,  1.0000,  0.0000,  1.0000,  0.0000,  0.0000,  6.0000,\n",
              "          0.0000,  1.0000,  0.2400,  0.2879,  0.8100,  0.0000,  3.0000, 13.0000,\n",
              "         16.0000,  1.0000,  0.0000,  0.0000,  0.0000]])"
            ]
          },
          "metadata": {},
          "execution_count": 59
        }
      ]
    },
    {
      "cell_type": "code",
      "source": [
        "bikes_onehot = torch.zeros(bikes_trimmed.shape[0],\n",
        "                           4, bikes_trimmed.shape[2])\n",
        "bikes_onehot.shape"
      ],
      "metadata": {
        "colab": {
          "base_uri": "https://localhost:8080/",
          "height": 159
        },
        "collapsed": true,
        "id": "eTW18c2ghR72",
        "outputId": "6468a98f-761c-461e-f345-7548e51b6c6d"
      },
      "execution_count": 60,
      "outputs": [
        {
          "output_type": "error",
          "ename": "IndexError",
          "evalue": "tuple index out of range",
          "traceback": [
            "\u001b[0;31m---------------------------------------------------------------------------\u001b[0m",
            "\u001b[0;31mIndexError\u001b[0m                                Traceback (most recent call last)",
            "\u001b[0;32m<ipython-input-60-8d549669c20d>\u001b[0m in \u001b[0;36m<cell line: 0>\u001b[0;34m()\u001b[0m\n\u001b[0;32m----> 1\u001b[0;31m \u001b[0mbikes_onehot\u001b[0m \u001b[0;34m=\u001b[0m \u001b[0mtorch\u001b[0m\u001b[0;34m.\u001b[0m\u001b[0mzeros\u001b[0m\u001b[0;34m(\u001b[0m\u001b[0mbikes_trimmed\u001b[0m\u001b[0;34m.\u001b[0m\u001b[0mshape\u001b[0m\u001b[0;34m[\u001b[0m\u001b[0;36m0\u001b[0m\u001b[0;34m]\u001b[0m\u001b[0;34m,\u001b[0m \u001b[0;36m4\u001b[0m\u001b[0;34m,\u001b[0m \u001b[0mbikes_trimmed\u001b[0m\u001b[0;34m.\u001b[0m\u001b[0mshape\u001b[0m\u001b[0;34m[\u001b[0m\u001b[0;36m2\u001b[0m\u001b[0;34m]\u001b[0m\u001b[0;34m)\u001b[0m\u001b[0;34m\u001b[0m\u001b[0;34m\u001b[0m\u001b[0m\n\u001b[0m\u001b[1;32m      2\u001b[0m \u001b[0mbikes_onehot\u001b[0m\u001b[0;34m.\u001b[0m\u001b[0mshape\u001b[0m\u001b[0;34m\u001b[0m\u001b[0;34m\u001b[0m\u001b[0m\n",
            "\u001b[0;31mIndexError\u001b[0m: tuple index out of range"
          ]
        }
      ]
    },
    {
      "cell_type": "code",
      "source": [
        "url = \"https://www.gutenberg.org/files/1342/1342-0.txt\"\n",
        "file_name = \"frankenstein.txt\"\n",
        "\n",
        "response = requests.get(url, stream=True)\n",
        "\n",
        "with open(file_name, \"wb\") as file:\n",
        "  for chunk in response.iter_content(chunk_size=8192):\n",
        "    file.write(chunk)\n",
        "\n",
        "with open(file_name, encoding=\"utf8\") as f:\n",
        "  text = f.read()\n",
        "\n",
        "lines = text.split(\"\\n\")\n",
        "letter_t = torch.zeros(len(lines), 128)\n",
        "letter_t.shape\n",
        "line = lines[200]\n",
        "line"
      ],
      "metadata": {
        "colab": {
          "base_uri": "https://localhost:8080/",
          "height": 36
        },
        "collapsed": true,
        "id": "-pSCA9-aiew9",
        "outputId": "b5fea452-e38e-4e60-cd53-6840e2500418"
      },
      "execution_count": 80,
      "outputs": [
        {
          "output_type": "execute_result",
          "data": {
            "text/plain": [
              "'snarling invective, but to gentle and oblique satire. If cynicism means'"
            ],
            "application/vnd.google.colaboratory.intrinsic+json": {
              "type": "string"
            }
          },
          "metadata": {},
          "execution_count": 80
        }
      ]
    },
    {
      "cell_type": "code",
      "source": [
        "for i, letter in enumerate(line.lower().strip()):\n",
        "  letter_index = ord(letter) if ord(letter) < 128 else 0\n",
        "  letter_t[i][letter_index] = 1"
      ],
      "metadata": {
        "id": "FqLPUAbUlAND"
      },
      "execution_count": 81,
      "outputs": []
    },
    {
      "cell_type": "code",
      "source": [
        "def clean_words(input_str):\n",
        "  punctuation = '.,;:\"!?”“_-'\n",
        "  word_list = input_str.lower().replace('\\n', ' ').split()\n",
        "  word_list = [word.strip(punctuation) for word in word_list]\n",
        "  return word_list\n",
        "\n",
        "words_in_line = clean_words(line)\n",
        "word_list = sorted(set(clean_words(text)))\n",
        "word2index_dict = { word: i for (i,word) in enumerate(word_list) }\n",
        "len(word2index_dict), word2index_dict['impossible']"
      ],
      "metadata": {
        "colab": {
          "base_uri": "https://localhost:8080/"
        },
        "collapsed": true,
        "id": "izwQ-Ap_wyFT",
        "outputId": "fbed41db-8f1d-4c81-f04f-707ea36f300d"
      },
      "execution_count": 86,
      "outputs": [
        {
          "output_type": "execute_result",
          "data": {
            "text/plain": [
              "(7465, 3455)"
            ]
          },
          "metadata": {},
          "execution_count": 86
        }
      ]
    },
    {
      "cell_type": "code",
      "source": [
        "  len(words_in_line), len(word2index_dict)"
      ],
      "metadata": {
        "colab": {
          "base_uri": "https://localhost:8080/"
        },
        "id": "YrhRKtaaFK2A",
        "outputId": "d57803cd-599a-4bab-aded-fe723e2cc2d5"
      },
      "execution_count": 88,
      "outputs": [
        {
          "output_type": "execute_result",
          "data": {
            "text/plain": [
              "(11, 7465)"
            ]
          },
          "metadata": {},
          "execution_count": 88
        }
      ]
    },
    {
      "cell_type": "code",
      "source": [
        "word_t = torch.zeros(len(words_in_line),len(word2index_dict))\n",
        "\n",
        "for i, word in enumerate(words_in_line):\n",
        "  word_index = word2index_dict[word]\n",
        "  word_t[i][word_index] = 1\n",
        "  print('{:2} {:4} {}'.format(i, word_index, word))\n",
        "\n",
        "print(word_t.shape)"
      ],
      "metadata": {
        "colab": {
          "base_uri": "https://localhost:8080/"
        },
        "id": "s-s3bBgaKAf9",
        "outputId": "80cf7983-eb3f-43e7-b6ba-588cd64d6f64"
      },
      "execution_count": 91,
      "outputs": [
        {
          "output_type": "stream",
          "name": "stdout",
          "text": [
            " 0 6143 snarling\n",
            " 1 3725 invective\n",
            " 2  992 but\n",
            " 3 6680 to\n",
            " 4 2935 gentle\n",
            " 5  439 and\n",
            " 6 4578 oblique\n",
            " 7 5795 satire\n",
            " 8 3378 if\n",
            " 9 1670 cynicism\n",
            "10 4213 means\n",
            "torch.Size([11, 7465])\n"
          ]
        }
      ]
    },
    {
      "cell_type": "code",
      "source": [
        "!apt-get install git"
      ],
      "metadata": {
        "colab": {
          "base_uri": "https://localhost:8080/"
        },
        "id": "qri0ydxSKi1I",
        "outputId": "26722b28-8ccf-478b-a940-63afde1441aa"
      },
      "execution_count": 92,
      "outputs": [
        {
          "output_type": "stream",
          "name": "stdout",
          "text": [
            "Reading package lists... Done\n",
            "Building dependency tree... Done\n",
            "Reading state information... Done\n",
            "git is already the newest version (1:2.34.1-1ubuntu1.12).\n",
            "0 upgraded, 0 newly installed, 0 to remove and 29 not upgraded.\n"
          ]
        }
      ]
    },
    {
      "cell_type": "code",
      "source": [
        "%cd /content"
      ],
      "metadata": {
        "colab": {
          "base_uri": "https://localhost:8080/"
        },
        "id": "xveEAKKfY14A",
        "outputId": "f18ef5b9-5151-4dc1-c7b4-4c8a94a6cfc7"
      },
      "execution_count": 93,
      "outputs": [
        {
          "output_type": "stream",
          "name": "stdout",
          "text": [
            "/content\n"
          ]
        }
      ]
    },
    {
      "cell_type": "code",
      "source": [
        "!git init"
      ],
      "metadata": {
        "colab": {
          "base_uri": "https://localhost:8080/"
        },
        "id": "lTMZNuOaY82i",
        "outputId": "6f08036a-0a0f-4a58-b403-14370e8580d5"
      },
      "execution_count": 94,
      "outputs": [
        {
          "output_type": "stream",
          "name": "stdout",
          "text": [
            "\u001b[33mhint: Using 'master' as the name for the initial branch. This default branch name\u001b[m\n",
            "\u001b[33mhint: is subject to change. To configure the initial branch name to use in all\u001b[m\n",
            "\u001b[33mhint: of your new repositories, which will suppress this warning, call:\u001b[m\n",
            "\u001b[33mhint: \u001b[m\n",
            "\u001b[33mhint: \tgit config --global init.defaultBranch <name>\u001b[m\n",
            "\u001b[33mhint: \u001b[m\n",
            "\u001b[33mhint: Names commonly chosen instead of 'master' are 'main', 'trunk' and\u001b[m\n",
            "\u001b[33mhint: 'development'. The just-created branch can be renamed via this command:\u001b[m\n",
            "\u001b[33mhint: \u001b[m\n",
            "\u001b[33mhint: \tgit branch -m <name>\u001b[m\n",
            "Initialized empty Git repository in /content/.git/\n"
          ]
        }
      ]
    },
    {
      "cell_type": "code",
      "source": [
        "!git remote add origin https://github.com/karolpiczak/ESC-50.git"
      ],
      "metadata": {
        "id": "xPE7yhxNY_FZ"
      },
      "execution_count": 95,
      "outputs": []
    },
    {
      "cell_type": "code",
      "source": [
        "!git config core.sparseCheckout true"
      ],
      "metadata": {
        "id": "TYDet5NiZE1F"
      },
      "execution_count": 96,
      "outputs": []
    },
    {
      "cell_type": "code",
      "source": [
        "!echo \"audio\" >> .git/info/sparse-checkout"
      ],
      "metadata": {
        "id": "KLo2QAWUZLHd"
      },
      "execution_count": 97,
      "outputs": []
    },
    {
      "cell_type": "code",
      "source": [
        "!git pull origin master"
      ],
      "metadata": {
        "colab": {
          "base_uri": "https://localhost:8080/"
        },
        "id": "LCNz98G-ZVtu",
        "outputId": "230daf44-33ed-4b98-e4e2-d0fbd8bd2bf6"
      },
      "execution_count": 98,
      "outputs": [
        {
          "output_type": "stream",
          "name": "stdout",
          "text": [
            "remote: Enumerating objects: 4199, done.\u001b[K\n",
            "remote: Counting objects:   1% (1/63)\u001b[K\rremote: Counting objects:   3% (2/63)\u001b[K\rremote: Counting objects:   4% (3/63)\u001b[K\rremote: Counting objects:   6% (4/63)\u001b[K\rremote: Counting objects:   7% (5/63)\u001b[K\rremote: Counting objects:   9% (6/63)\u001b[K\rremote: Counting objects:  11% (7/63)\u001b[K\rremote: Counting objects:  12% (8/63)\u001b[K\rremote: Counting objects:  14% (9/63)\u001b[K\rremote: Counting objects:  15% (10/63)\u001b[K\rremote: Counting objects:  17% (11/63)\u001b[K\rremote: Counting objects:  19% (12/63)\u001b[K\rremote: Counting objects:  20% (13/63)\u001b[K\rremote: Counting objects:  22% (14/63)\u001b[K\rremote: Counting objects:  23% (15/63)\u001b[K\rremote: Counting objects:  25% (16/63)\u001b[K\rremote: Counting objects:  26% (17/63)\u001b[K\rremote: Counting objects:  28% (18/63)\u001b[K\rremote: Counting objects:  30% (19/63)\u001b[K\rremote: Counting objects:  31% (20/63)\u001b[K\rremote: Counting objects:  33% (21/63)\u001b[K\rremote: Counting objects:  34% (22/63)\u001b[K\rremote: Counting objects:  36% (23/63)\u001b[K\rremote: Counting objects:  38% (24/63)\u001b[K\rremote: Counting objects:  39% (25/63)\u001b[K\rremote: Counting objects:  41% (26/63)\u001b[K\rremote: Counting objects:  42% (27/63)\u001b[K\rremote: Counting objects:  44% (28/63)\u001b[K\rremote: Counting objects:  46% (29/63)\u001b[K\rremote: Counting objects:  47% (30/63)\u001b[K\rremote: Counting objects:  49% (31/63)\u001b[K\rremote: Counting objects:  50% (32/63)\u001b[K\rremote: Counting objects:  52% (33/63)\u001b[K\rremote: Counting objects:  53% (34/63)\u001b[K\rremote: Counting objects:  55% (35/63)\u001b[K\rremote: Counting objects:  57% (36/63)\u001b[K\rremote: Counting objects:  58% (37/63)\u001b[K\rremote: Counting objects:  60% (38/63)\u001b[K\rremote: Counting objects:  61% (39/63)\u001b[K\rremote: Counting objects:  63% (40/63)\u001b[K\rremote: Counting objects:  65% (41/63)\u001b[K\rremote: Counting objects:  66% (42/63)\u001b[K\rremote: Counting objects:  68% (43/63)\u001b[K\rremote: Counting objects:  69% (44/63)\u001b[K\rremote: Counting objects:  71% (45/63)\u001b[K\rremote: Counting objects:  73% (46/63)\u001b[K\rremote: Counting objects:  74% (47/63)\u001b[K\rremote: Counting objects:  76% (48/63)\u001b[K\rremote: Counting objects:  77% (49/63)\u001b[K\rremote: Counting objects:  79% (50/63)\u001b[K\rremote: Counting objects:  80% (51/63)\u001b[K\rremote: Counting objects:  82% (52/63)\u001b[K\rremote: Counting objects:  84% (53/63)\u001b[K\rremote: Counting objects:  85% (54/63)\u001b[K\rremote: Counting objects:  87% (55/63)\u001b[K\rremote: Counting objects:  88% (56/63)\u001b[K\rremote: Counting objects:  90% (57/63)\u001b[K\rremote: Counting objects:  92% (58/63)\u001b[K\rremote: Counting objects:  93% (59/63)\u001b[K\rremote: Counting objects:  95% (60/63)\u001b[K\rremote: Counting objects:  96% (61/63)\u001b[K\rremote: Counting objects:  98% (62/63)\u001b[K\rremote: Counting objects: 100% (63/63)\u001b[K\rremote: Counting objects: 100% (63/63), done.\u001b[K\n",
            "remote: Compressing objects: 100% (45/45), done.\u001b[K\n",
            "remote: Total 4199 (delta 40), reused 38 (delta 18), pack-reused 4136 (from 1)\u001b[K\n",
            "Receiving objects: 100% (4199/4199), 878.79 MiB | 28.73 MiB/s, done.\n",
            "Resolving deltas: 100% (287/287), done.\n",
            "From https://github.com/karolpiczak/ESC-50\n",
            " * branch            master     -> FETCH_HEAD\n",
            " * [new branch]      master     -> origin/master\n",
            "Updating files: 100% (2000/2000), done.\n"
          ]
        }
      ]
    },
    {
      "cell_type": "code",
      "source": [
        "!ls -R audio"
      ],
      "metadata": {
        "colab": {
          "base_uri": "https://localhost:8080/"
        },
        "collapsed": true,
        "id": "0AJ8AFM_ZY38",
        "outputId": "13901732-86b5-4b46-9e8c-2b24448dff05"
      },
      "execution_count": 99,
      "outputs": [
        {
          "output_type": "stream",
          "name": "stdout",
          "text": [
            "audio:\n",
            "1-100032-A-0.wav   2-100648-A-43.wav  3-100018-A-18.wav  4-102844-A-49.wav  5-103415-A-2.wav\n",
            "1-100038-A-14.wav  2-100786-A-1.wav   3-100024-A-27.wav  4-102844-B-49.wav  5-103416-A-2.wav\n",
            "1-100210-A-36.wav  2-101676-A-10.wav  3-100024-B-27.wav  4-102844-C-49.wav  5-103418-A-2.wav\n",
            "1-100210-B-36.wav  2-102414-A-17.wav  3-101381-A-33.wav  4-102871-A-42.wav  5-103420-A-2.wav\n",
            "1-101296-A-19.wav  2-102414-B-17.wav  3-101381-B-33.wav  4-107117-A-33.wav  5-103421-A-2.wav\n",
            "1-101296-B-19.wav  2-102414-C-17.wav  3-102583-A-49.wav  4-107120-A-33.wav  5-103422-A-2.wav\n",
            "1-101336-A-30.wav  2-102414-D-17.wav  3-102583-B-49.wav  4-107122-A-33.wav  5-117118-A-42.wav\n",
            "1-101404-A-34.wav  2-102414-E-17.wav  3-102583-C-49.wav  4-108352-A-33.wav  5-117120-A-42.wav\n",
            "1-103298-A-9.wav   2-102414-F-17.wav  3-102908-A-4.wav\t 4-111671-A-42.wav  5-117122-A-42.wav\n",
            "1-103995-A-30.wav  2-102414-G-17.wav  3-103050-A-19.wav  4-111671-B-42.wav  5-117250-A-2.wav\n",
            "1-103999-A-30.wav  2-102435-A-37.wav  3-103051-A-19.wav  4-117627-A-25.wav  5-117773-A-16.wav\n",
            "1-104089-A-22.wav  2-102567-A-35.wav  3-103051-B-19.wav  4-117630-A-25.wav  5-127990-A-2.wav\n",
            "1-104089-B-22.wav  2-102567-B-35.wav  3-103051-C-19.wav  4-119647-A-48.wav  5-133989-A-42.wav\n",
            "1-105224-A-22.wav  2-102567-C-35.wav  3-103401-A-33.wav  4-119647-B-48.wav  5-133989-B-42.wav\n",
            "1-110389-A-0.wav   2-102567-D-35.wav  3-103401-B-33.wav  4-119647-C-48.wav  5-141683-A-35.wav\n",
            "1-110537-A-22.wav  2-102568-A-35.wav  3-103401-C-33.wav  4-119647-D-48.wav  5-147297-A-27.wav\n",
            "1-115521-A-19.wav  2-102581-A-29.wav  3-103401-D-33.wav  4-119648-A-48.wav  5-150409-A-42.wav\n",
            "1-115545-A-48.wav  2-102581-B-29.wav  3-103597-A-25.wav  4-119648-B-48.wav  5-151085-A-20.wav\n",
            "1-115545-B-48.wav  2-102852-A-11.wav  3-103598-A-25.wav  4-119648-C-48.wav  5-156026-A-4.wav\n",
            "1-115545-C-48.wav  2-103423-A-3.wav   3-103599-A-25.wav  4-119648-D-48.wav  5-156026-B-4.wav\n",
            "1-115546-A-48.wav  2-103424-A-3.wav   3-103599-B-25.wav  4-119720-A-18.wav  5-156026-C-4.wav\n",
            "1-115920-A-22.wav  2-103426-A-3.wav   3-104632-A-12.wav  4-120160-A-5.wav   5-156026-D-4.wav\n",
            "1-115920-B-22.wav  2-103427-A-3.wav   3-104761-A-7.wav\t 4-121532-A-42.wav  5-156698-A-18.wav\n",
            "1-115921-A-22.wav  2-103428-A-3.wav   3-104761-B-7.wav\t 4-123680-A-18.wav  5-156999-A-19.wav\n",
            "1-116765-A-41.wav  2-104105-A-19.wav  3-104958-A-12.wav  4-125070-A-19.wav  5-156999-B-19.wav\n",
            "1-11687-A-47.wav   2-104105-B-19.wav  3-105235-A-7.wav\t 4-125071-A-19.wav  5-156999-C-19.wav\n",
            "1-118206-A-31.wav  2-104168-A-32.wav  3-105236-A-7.wav\t 4-125072-A-19.wav  5-156999-D-19.wav\n",
            "1-118559-A-17.wav  2-104475-A-37.wav  3-107123-A-26.wav  4-125072-B-19.wav  5-156999-E-19.wav\n",
            "1-119125-A-45.wav  2-104476-A-37.wav  3-107219-A-1.wav\t 4-125825-A-46.wav  5-157204-A-16.wav\n",
            "1-121951-A-8.wav   2-104877-A-3.wav   3-108160-A-23.wav  4-125825-B-46.wav  5-157204-B-16.wav\n",
            "1-12653-A-15.wav   2-104952-A-16.wav  3-108451-A-17.wav  4-125929-A-40.wav  5-160551-A-42.wav\n",
            "1-12654-A-15.wav   2-104952-B-16.wav  3-108451-B-17.wav  4-126046-A-18.wav  5-160614-A-48.wav\n",
            "1-12654-B-15.wav   2-105270-A-47.wav  3-108677-A-18.wav  4-126532-A-18.wav  5-160614-B-48.wav\n",
            "1-13571-A-46.wav   2-106014-A-44.wav  3-108791-A-18.wav  4-128659-A-33.wav  5-160614-C-48.wav\n",
            "1-13572-A-46.wav   2-106015-A-44.wav  3-110536-A-26.wav  4-130584-A-4.wav   5-160614-D-48.wav\n",
            "1-13613-A-37.wav   2-106015-B-44.wav  3-110913-A-7.wav\t 4-130891-A-7.wav   5-160614-E-48.wav\n",
            "1-137296-A-16.wav  2-106019-A-13.wav  3-110913-B-7.wav\t 4-132383-A-2.wav   5-160614-F-48.wav\n",
            "1-137-A-32.wav\t   2-106072-A-36.wav  3-110913-C-7.wav\t 4-132383-B-2.wav   5-160614-G-48.wav\n",
            "1-14262-A-37.wav   2-106073-A-36.wav  3-110913-D-7.wav\t 4-132803-A-26.wav  5-160614-H-48.wav\n",
            "1-155858-A-25.wav  2-106486-A-44.wav  3-111102-A-46.wav  4-132810-A-26.wav  5-161270-A-33.wav\n",
            "1-155858-B-25.wav  2-106487-A-44.wav  3-111102-B-46.wav  4-132816-A-26.wav  5-161270-B-33.wav\n",
            "1-155858-C-25.wav  2-106849-A-47.wav  3-112356-A-18.wav  4-132839-A-33.wav  5-169983-A-5.wav\n",
            "1-155858-D-25.wav  2-106881-A-39.wav  3-112397-A-9.wav\t 4-133047-A-5.wav   5-170338-A-41.wav\n",
            "1-155858-E-25.wav  2-107228-A-44.wav  3-112522-A-27.wav  4-133047-B-5.wav   5-170338-B-41.wav\n",
            "1-155858-F-25.wav  2-107228-B-44.wav  3-112557-A-23.wav  4-133047-C-5.wav   5-171118-A-26.wav\n",
            "1-15689-A-4.wav    2-107351-A-20.wav  3-112557-B-23.wav  4-133674-A-26.wav  5-171653-A-41.wav\n",
            "1-15689-B-4.wav    2-107351-B-20.wav  3-115382-A-44.wav  4-133895-A-7.wav   5-172299-A-5.wav\n",
            "1-160563-A-48.wav  2-108017-A-24.wav  3-115387-A-47.wav  4-135439-A-18.wav  5-172639-A-5.wav\n",
            "1-160563-B-48.wav  2-108760-A-14.wav  3-115387-B-47.wav  4-136381-A-9.wav   5-173568-A-33.wav\n",
            "1-16568-A-3.wav    2-108760-B-14.wav  3-115387-C-47.wav  4-138344-A-9.wav   5-177034-A-18.wav\n",
            "1-16746-A-15.wav   2-108761-A-14.wav  3-116135-A-1.wav\t 4-140034-A-46.wav  5-177614-A-5.wav\n",
            "1-17092-A-27.wav   2-108763-A-9.wav   3-117293-A-9.wav\t 4-141365-A-18.wav  5-177779-A-33.wav\n",
            "1-17092-B-27.wav   2-108766-A-9.wav   3-117504-A-16.wav  4-143118-A-7.wav   5-177957-A-40.wav\n",
            "1-17124-A-43.wav   2-108767-A-9.wav   3-117504-B-16.wav  4-143118-B-7.wav   5-177957-B-40.wav\n",
            "1-17150-A-12.wav   2-108767-B-9.wav   3-117793-A-37.wav  4-144083-A-16.wav  5-177957-C-40.wav\n",
            "1-172649-A-40.wav  2-108767-C-9.wav   3-117883-A-37.wav  4-144083-B-16.wav  5-177957-D-40.wav\n",
            "1-172649-B-40.wav  2-109231-A-9.wav   3-118059-A-18.wav  4-144083-C-16.wav  5-177957-E-40.wav\n",
            "1-172649-C-40.wav  2-109231-B-9.wav   3-118069-A-27.wav  4-144085-A-16.wav  5-178997-A-24.wav\n",
            "1-172649-D-40.wav  2-109231-C-9.wav   3-118069-B-27.wav  4-144468-A-27.wav  5-179294-A-46.wav\n",
            "1-172649-E-40.wav  2-109316-A-32.wav  3-118194-A-33.wav  4-144468-B-27.wav  5-179496-A-16.wav\n",
            "1-172649-F-40.wav  2-109371-A-16.wav  3-118487-A-26.wav  4-145006-A-18.wav  5-179496-B-16.wav\n",
            "1-17295-A-29.wav   2-109371-B-16.wav  3-118656-A-41.wav  4-145081-A-9.wav   5-179860-A-43.wav\n",
            "1-17367-A-10.wav   2-109371-C-16.wav  3-118657-A-41.wav  4-146200-A-36.wav  5-179863-A-43.wav\n",
            "1-17565-A-12.wav   2-109371-D-16.wav  3-118657-B-41.wav  4-147240-A-2.wav   5-179865-A-43.wav\n",
            "1-17585-A-7.wav    2-109374-A-16.wav  3-118658-A-41.wav  4-147240-B-2.wav   5-179866-A-43.wav\n",
            "1-17742-A-12.wav   2-109505-A-21.wav  3-118658-B-41.wav  4-147657-A-46.wav  5-179868-A-43.wav\n",
            "1-17808-A-12.wav   2-109759-A-26.wav  3-118972-A-41.wav  4-147658-A-46.wav  5-180156-A-43.wav\n",
            "1-17808-B-12.wav   2-109759-B-26.wav  3-118972-B-41.wav  4-149294-A-41.wav  5-180156-B-43.wav\n",
            "1-1791-A-26.wav    2-110010-A-5.wav   3-119120-A-48.wav  4-149294-B-41.wav  5-180156-C-43.wav\n",
            "1-17970-A-4.wav    2-110011-A-5.wav   3-119120-B-48.wav  4-149940-A-5.wav   5-180229-A-27.wav\n",
            "1-18074-A-6.wav    2-110417-A-28.wav  3-119120-C-48.wav  4-149940-B-5.wav   5-181458-A-33.wav\n",
            "1-18074-B-6.wav    2-110417-B-28.wav  3-119120-D-48.wav  4-150364-A-46.wav  5-181766-A-10.wav\n",
            "1-181071-A-40.wav  2-110613-A-13.wav  3-119120-E-48.wav  4-150364-B-46.wav  5-181977-A-35.wav\n",
            "1-181071-B-40.wav  2-110614-A-8.wav   3-119455-A-44.wav  4-151242-A-37.wav  5-182007-A-36.wav\n",
            "1-18527-A-44.wav   2-110614-B-8.wav   3-119459-A-26.wav  4-152958-A-18.wav  5-182010-A-36.wav\n",
            "1-18527-B-44.wav   2-112213-A-39.wav  3-120526-A-37.wav  4-152995-A-24.wav  5-182012-A-36.wav\n",
            "1-18631-A-23.wav   2-112213-B-39.wav  3-120526-B-37.wav  4-154405-A-27.wav  5-182404-A-18.wav\n",
            "1-18655-A-31.wav   2-114254-A-30.wav  3-120644-A-12.wav  4-154405-B-27.wav  5-184323-A-42.wav\n",
            "1-187207-A-20.wav  2-114280-A-0.wav   3-121348-A-9.wav\t 4-154443-A-24.wav  5-184871-A-24.wav\n",
            "1-18755-A-4.wav    2-114587-A-0.wav   3-122110-A-46.wav  4-154793-A-4.wav   5-185516-A-27.wav\n",
            "1-18755-B-4.wav    2-114609-A-28.wav  3-123086-A-28.wav  4-155650-A-24.wav  5-185579-A-41.wav\n",
            "1-18757-A-4.wav    2-114609-B-28.wav  3-123224-A-19.wav  4-155650-B-24.wav  5-185579-B-41.wav\n",
            "1-18810-A-49.wav   2-116400-A-0.wav   3-124376-A-3.wav\t 4-155670-A-26.wav  5-185908-A-18.wav\n",
            "1-19026-A-43.wav   2-117116-A-37.wav  3-124376-B-3.wav\t 4-156227-A-9.wav   5-186924-A-12.wav\n",
            "1-19111-A-24.wav   2-117271-A-0.wav   3-124600-A-19.wav  4-156827-A-46.wav  5-187201-A-4.wav\n",
            "1-19118-A-24.wav   2-117330-A-28.wav  3-124795-A-28.wav  4-156843-A-21.wav  5-187201-B-4.wav\n",
            "1-19501-A-7.wav    2-117615-A-48.wav  3-124925-A-9.wav\t 4-156844-A-21.wav  5-187444-A-33.wav\n",
            "1-196660-A-8.wav   2-117615-B-48.wav  3-124958-A-28.wav  4-156993-A-19.wav  5-187979-A-21.wav\n",
            "1-196660-B-8.wav   2-117615-C-48.wav  3-125418-A-24.wav  4-157296-A-24.wav  5-188365-A-36.wav\n",
            "1-19840-A-36.wav   2-117615-D-48.wav  3-125548-A-32.wav  4-157297-A-21.wav  5-188495-A-19.wav\n",
            "1-19872-A-36.wav   2-117615-E-48.wav  3-126113-A-26.wav  4-157611-A-41.wav  5-188606-A-33.wav\n",
            "1-19872-B-36.wav   2-117616-A-48.wav  3-126358-A-3.wav\t 4-157611-B-41.wav  5-188655-A-10.wav\n",
            "1-19898-A-41.wav   2-117617-A-48.wav  3-126358-B-3.wav\t 4-158653-A-32.wav  5-188716-A-46.wav\n",
            "1-19898-B-41.wav   2-117625-A-10.wav  3-126391-A-27.wav  4-159426-A-9.wav   5-188796-A-45.wav\n",
            "1-19898-C-41.wav   2-117795-A-3.wav   3-126391-B-27.wav  4-159609-A-14.wav  5-188945-A-45.wav\n",
            "1-20133-A-39.wav   2-117795-B-3.wav   3-127874-A-17.wav  4-159609-B-14.wav  5-189212-A-12.wav\n",
            "1-202111-A-3.wav   2-118072-A-0.wav   3-127890-A-9.wav\t 4-160036-A-33.wav  5-189237-A-12.wav\n",
            "1-20545-A-28.wav   2-118104-A-21.wav  3-127890-B-9.wav\t 4-160036-B-33.wav  5-189795-A-4.wav\n",
            "1-20736-A-18.wav   2-118459-A-32.wav  3-127890-C-9.wav\t 4-160999-A-10.wav  5-191131-A-40.wav\n",
            "1-208757-A-2.wav   2-118459-B-32.wav  3-128160-A-44.wav  4-161099-A-47.wav  5-191497-A-33.wav\n",
            "1-208757-B-2.wav   2-118624-A-30.wav  3-128512-A-47.wav  4-161099-B-47.wav  5-192191-A-19.wav\n",
            "1-208757-C-2.wav   2-118625-A-30.wav  3-128512-B-47.wav  4-161100-A-47.wav  5-193339-A-10.wav\n",
            "1-208757-D-2.wav   2-118817-A-32.wav  3-129264-A-9.wav\t 4-161103-A-47.wav  5-193473-A-12.wav\n",
            "1-208757-E-2.wav   2-118964-A-0.wav   3-129338-A-13.wav  4-161105-A-47.wav  5-193473-B-12.wav\n",
            "1-211527-A-20.wav  2-119102-A-21.wav  3-129678-A-13.wav  4-161105-B-47.wav  5-194533-A-21.wav\n",
            "1-211527-B-20.wav  2-119139-A-31.wav  3-130330-A-22.wav  4-161127-A-10.wav  5-194892-A-10.wav\n",
            "1-211527-C-20.wav  2-119161-A-8.wav   3-130998-A-28.wav  4-161303-A-5.wav   5-194899-A-3.wav\n",
            "1-21189-A-10.wav   2-119161-B-8.wav   3-130998-B-28.wav  4-161303-B-5.wav   5-194899-B-3.wav\n",
            "1-21421-A-46.wav   2-119161-C-8.wav   3-131943-A-37.wav  4-161519-A-19.wav  5-194899-C-3.wav\n",
            "1-21896-A-35.wav   2-119748-A-38.wav  3-132340-A-37.wav  4-161579-A-40.wav  5-194899-D-3.wav\n",
            "1-21934-A-38.wav   2-120218-A-30.wav  3-132601-A-24.wav  4-161579-B-40.wav  5-194930-A-1.wav\n",
            "1-21935-A-38.wav   2-120218-B-30.wav  3-132747-A-26.wav  4-163264-A-10.wav  5-194930-B-1.wav\n",
            "1-223162-A-25.wav  2-120333-A-32.wav  3-132830-A-32.wav  4-163606-A-16.wav  5-194932-A-7.wav\n",
            "1-22694-A-20.wav   2-120586-A-6.wav   3-132852-A-10.wav  4-163608-B-16.wav  5-195517-A-7.wav\n",
            "1-22694-B-20.wav   2-120587-A-6.wav   3-133977-A-29.wav  4-163609-A-16.wav  5-195518-A-7.wav\n",
            "1-22804-A-46.wav   2-121909-A-35.wav  3-134049-A-1.wav\t 4-163609-B-16.wav  5-195557-A-19.wav\n",
            "1-22882-A-44.wav   2-121978-A-29.wav  3-134699-A-16.wav  4-163697-A-13.wav  5-195710-A-10.wav\n",
            "1-23094-A-15.wav   2-122066-A-45.wav  3-134699-B-16.wav  4-164021-A-1.wav   5-197118-A-45.wav\n",
            "1-23094-B-15.wav   2-122066-B-45.wav  3-134699-C-16.wav  4-164064-A-1.wav   5-197121-A-45.wav\n",
            "1-23222-A-19.wav   2-122067-A-45.wav  3-134802-A-13.wav  4-164064-B-1.wav   5-197121-B-45.wav\n",
            "1-23222-B-19.wav   2-122067-B-45.wav  3-135469-A-35.wav  4-164064-C-1.wav   5-197446-A-7.wav\n",
            "1-23706-A-49.wav   2-122104-A-0.wav   3-135650-A-45.wav  4-164206-A-10.wav  5-197913-A-18.wav\n",
            "1-23996-A-35.wav   2-122104-B-0.wav   3-135650-B-45.wav  4-164243-A-26.wav  5-197988-A-46.wav\n",
            "1-23996-B-35.wav   2-122616-A-14.wav  3-136288-A-0.wav\t 4-164661-A-12.wav  5-198278-A-7.wav\n",
            "1-24074-A-43.wav   2-122763-A-29.wav  3-136451-A-45.wav  4-164661-B-12.wav  5-198278-B-7.wav\n",
            "1-24076-A-43.wav   2-122763-B-29.wav  3-136608-A-16.wav  4-164859-A-1.wav   5-198278-C-7.wav\n",
            "1-24524-A-19.wav   2-122820-A-36.wav  3-137152-A-1.wav\t 4-165606-A-45.wav  5-198321-A-10.wav\n",
            "1-24524-B-19.wav   2-122820-B-36.wav  3-138114-A-22.wav  4-165791-A-45.wav  5-198373-A-46.wav\n",
            "1-24524-C-19.wav   2-123712-A-33.wav  3-138212-A-45.wav  4-165791-B-45.wav  5-198411-A-20.wav\n",
            "1-24796-A-47.wav   2-123896-A-24.wav  3-139109-A-46.wav  4-165813-A-19.wav  5-198411-B-20.wav\n",
            "1-254507-A-43.wav  2-124564-A-15.wav  3-139331-A-27.wav  4-165813-B-19.wav  5-198411-C-20.wav\n",
            "1-25777-A-48.wav   2-124662-A-11.wav  3-139958-A-37.wav  4-165823-A-41.wav  5-198411-D-20.wav\n",
            "1-25781-A-48.wav   2-125520-A-43.wav  3-140199-A-8.wav\t 4-165823-B-41.wav  5-198411-E-20.wav\n",
            "1-260640-A-2.wav   2-125821-A-13.wav  3-140199-B-8.wav\t 4-165845-A-45.wav  5-198411-F-20.wav\n",
            "1-260640-B-2.wav   2-125875-A-13.wav  3-140199-C-8.wav\t 4-165845-B-45.wav  5-198411-G-20.wav\n",
            "1-260640-C-2.wav   2-125966-A-11.wav  3-140199-D-8.wav\t 4-165933-A-45.wav  5-198600-A-45.wav\n",
            "1-26143-A-21.wav   2-126433-A-17.wav  3-140323-A-29.wav  4-166661-A-10.wav  5-198891-A-8.wav\n",
            "1-26176-A-43.wav   2-126756-A-29.wav  3-140774-A-10.wav  4-167063-A-11.wav  5-198891-B-8.wav\n",
            "1-26177-A-43.wav   2-127108-A-38.wav  3-141240-A-44.wav  4-167063-B-11.wav  5-198891-C-8.wav\n",
            "1-26188-A-30.wav   2-127109-A-6.wav   3-141240-B-44.wav  4-167063-C-11.wav  5-198891-D-8.wav\n",
            "1-26222-A-10.wav   2-128465-A-43.wav  3-141559-A-45.wav  4-167077-A-20.wav  5-199284-A-45.wav\n",
            "1-26806-A-1.wav    2-128465-B-43.wav  3-141684-A-21.wav  4-167077-B-20.wav  5-199284-B-45.wav\n",
            "1-27165-A-35.wav   2-128631-A-21.wav  3-142005-A-10.wav  4-167077-C-20.wav  5-200329-A-8.wav\n",
            "1-27166-A-35.wav   2-130245-A-34.wav  3-142006-A-10.wav  4-167155-A-32.wav  5-200329-B-8.wav\n",
            "1-27403-A-28.wav   2-130978-A-21.wav  3-142349-A-17.wav  4-167571-A-26.wav  5-200329-C-8.wav\n",
            "1-27405-A-28.wav   2-130979-A-21.wav  3-142593-A-38.wav  4-167642-A-21.wav  5-200334-A-1.wav\n",
            "1-27724-A-1.wav    2-131943-A-38.wav  3-142601-A-21.wav  4-168155-A-15.wav  5-200334-B-1.wav\n",
            "1-28005-A-18.wav   2-132157-A-11.wav  3-142604-A-24.wav  4-168446-A-45.wav  5-200339-A-1.wav\n",
            "1-28135-A-11.wav   2-132157-B-11.wav  3-142605-A-21.wav  4-168868-A-17.wav  5-200461-A-11.wav\n",
            "1-28135-B-11.wav   2-133863-A-11.wav  3-143119-A-21.wav  4-169127-A-41.wav  5-200461-B-11.wav\n",
            "1-28808-A-43.wav   2-133889-A-30.wav  3-143560-A-47.wav  4-169127-B-41.wav  5-201170-A-46.wav\n",
            "1-29532-A-16.wav   2-134049-A-6.wav   3-143562-A-47.wav  4-169508-A-37.wav  5-201172-A-46.wav\n",
            "1-29561-A-10.wav   2-134700-A-38.wav  3-143929-A-10.wav  4-169726-A-24.wav  5-201194-A-38.wav\n",
            "1-29680-A-21.wav   2-134915-A-30.wav  3-143933-A-38.wav  4-170078-A-1.wav   5-201274-A-21.wav\n",
            "1-30039-A-26.wav   2-135649-A-45.wav  3-144028-A-0.wav\t 4-170247-A-12.wav  5-201664-A-18.wav\n",
            "1-30043-A-26.wav   2-135649-B-45.wav  3-144106-A-32.wav  4-170247-B-12.wav  5-202020-A-18.wav\n",
            "1-30214-A-18.wav   2-135649-C-45.wav  3-144120-A-32.wav  4-171207-A-12.wav  5-202220-A-21.wav\n",
            "1-30226-A-0.wav    2-135728-A-38.wav  3-144128-A-23.wav  4-171396-A-24.wav  5-202540-A-18.wav\n",
            "1-30344-A-0.wav    2-135860-A-49.wav  3-144128-B-23.wav  4-171519-A-21.wav  5-202795-A-3.wav\n",
            "1-30709-A-23.wav   2-137162-A-11.wav  3-144253-A-29.wav  4-171652-A-44.wav  5-202898-A-10.wav\n",
            "1-30709-B-23.wav   2-138257-A-31.wav  3-144259-A-29.wav  4-171706-A-23.wav  5-203128-A-0.wav\n",
            "1-30709-C-23.wav   2-138465-A-43.wav  3-144510-A-30.wav  4-171823-A-13.wav  5-203128-B-0.wav\n",
            "1-30830-A-24.wav   2-139748-A-15.wav  3-144692-A-21.wav  4-172143-A-13.wav  5-203739-A-10.wav\n",
            "1-31251-A-6.wav    2-139748-B-15.wav  3-144827-A-11.wav  4-172180-A-32.wav  5-204114-A-29.wav\n",
            "1-31251-B-6.wav    2-139749-A-15.wav  3-144827-B-11.wav  4-172366-A-37.wav  5-204352-A-13.wav\n",
            "1-31482-A-42.wav   2-140147-A-38.wav  3-144891-A-19.wav  4-172377-A-17.wav  5-204352-B-13.wav\n",
            "1-31482-B-42.wav   2-140841-A-30.wav  3-144891-B-19.wav  4-172500-A-27.wav  5-204604-A-24.wav\n",
            "1-31748-A-21.wav   2-141563-A-39.wav  3-145382-A-1.wav\t 4-172500-B-27.wav  5-204741-A-46.wav\n",
            "1-31836-A-4.wav    2-141584-A-38.wav  3-145387-A-29.wav  4-172500-C-27.wav  5-205090-A-32.wav\n",
            "1-31836-B-4.wav    2-141681-A-36.wav  3-145487-A-24.wav  4-172500-D-27.wav  5-205589-A-17.wav\n",
            "1-32318-A-0.wav    2-141681-B-36.wav  3-145577-A-43.wav  4-172732-A-36.wav  5-205589-B-17.wav\n",
            "1-32373-A-35.wav   2-141682-A-36.wav  3-145719-A-17.wav  4-172733-A-36.wav  5-205898-A-40.wav\n",
            "1-32373-B-35.wav   2-141682-B-36.wav  3-145774-A-12.wav  4-172734-A-36.wav  5-207681-A-24.wav\n",
            "1-32579-A-29.wav   2-144031-A-34.wav  3-146033-A-13.wav  4-172736-A-36.wav  5-207781-A-17.wav\n",
            "1-33658-A-26.wav   2-144137-A-43.wav  3-146186-A-44.wav  4-172736-B-36.wav  5-207811-A-35.wav\n",
            "1-34094-A-5.wav    2-146877-A-31.wav  3-146697-A-43.wav  4-172742-A-32.wav  5-207811-B-35.wav\n",
            "1-34094-B-5.wav    2-146877-B-31.wav  3-146873-A-24.wav  4-173865-A-9.wav   5-207836-A-29.wav\n",
            "1-34119-A-1.wav    2-151079-A-20.wav  3-146964-A-5.wav\t 4-173865-B-9.wav   5-207836-B-29.wav\n",
            "1-34119-B-1.wav    2-152895-A-31.wav  3-146965-A-5.wav\t 4-174797-A-15.wav  5-207836-C-29.wav\n",
            "1-34495-A-14.wav   2-152964-A-31.wav  3-146972-A-5.wav\t 4-174860-A-3.wav   5-207836-D-29.wav\n",
            "1-34497-A-14.wav   2-153388-A-31.wav  3-147342-A-34.wav  4-174860-B-3.wav   5-208030-A-0.wav\n",
            "1-34853-A-37.wav   2-154688-A-31.wav  3-147343-A-34.wav  4-175000-A-40.wav  5-208624-A-38.wav\n",
            "1-35687-A-38.wav   2-155801-A-11.wav  3-147965-A-12.wav  4-175000-B-40.wav  5-208761-A-24.wav\n",
            "1-36164-A-26.wav   2-157488-A-6.wav   3-148297-A-37.wav  4-175000-C-40.wav  5-208810-A-11.wav\n",
            "1-36164-B-26.wav   2-158746-A-2.wav   3-148330-A-21.wav  4-175025-A-34.wav  5-208810-B-11.wav\n",
            "1-36393-A-23.wav   2-158746-B-2.wav   3-148932-A-34.wav  4-175845-A-43.wav  5-209698-A-38.wav\n",
            "1-36397-A-23.wav   2-158746-C-2.wav   3-149042-A-24.wav  4-175846-A-43.wav  5-209719-A-24.wav\n",
            "1-36400-A-23.wav   2-158746-D-2.wav   3-149189-A-1.wav\t 4-175855-A-43.wav  5-209833-A-38.wav\n",
            "1-36402-A-23.wav   2-160128-A-7.wav   3-149448-A-17.wav  4-175856-A-43.wav  5-209989-A-22.wav\n",
            "1-36929-A-47.wav   2-160888-A-47.wav  3-149465-A-22.wav  4-175945-A-38.wav  5-209992-A-44.wav\n",
            "1-37226-A-29.wav   2-165801-A-48.wav  3-150231-A-21.wav  4-176631-A-43.wav  5-209992-B-44.wav\n",
            "1-38559-A-14.wav   2-166644-A-2.wav   3-150363-A-38.wav  4-176638-A-43.wav  5-210540-A-13.wav\n",
            "1-38560-A-14.wav   2-166644-B-2.wav   3-150979-A-40.wav  4-176914-A-23.wav  5-210571-A-38.wav\n",
            "1-39835-A-9.wav    2-166644-C-2.wav   3-150979-B-40.wav  4-177243-A-32.wav  5-210612-A-37.wav\n",
            "1-39835-B-9.wav    2-173559-A-39.wav  3-150979-C-40.wav  4-177250-A-10.wav  5-211197-A-24.wav\n",
            "1-39901-A-11.wav   2-173607-A-39.wav  3-151080-A-20.wav  4-177835-A-24.wav  5-211408-A-37.wav\n",
            "1-39901-B-11.wav   2-173618-A-39.wav  3-151081-A-20.wav  4-178402-A-43.wav  5-212050-A-27.wav\n",
            "1-39923-A-1.wav    2-182508-A-8.wav   3-151081-B-20.wav  4-178881-A-45.wav  5-212054-A-36.wav\n",
            "1-39937-A-28.wav   2-182508-B-8.wav   3-151089-A-30.wav  4-179836-A-34.wav  5-212059-A-36.wav\n",
            "1-40154-A-46.wav   2-184077-A-49.wav  3-151206-A-23.wav  4-179984-A-38.wav  5-212181-A-38.wav\n",
            "1-40621-A-28.wav   2-18766-A-12.wav   3-151212-A-24.wav  4-180337-A-28.wav  5-212454-A-0.wav\n",
            "1-40730-A-1.wav    2-18766-B-12.wav   3-151213-A-24.wav  4-180380-A-10.wav  5-212730-A-17.wav\n",
            "1-40967-A-28.wav   2-188822-A-40.wav  3-151255-A-28.wav  4-180453-A-17.wav  5-212734-A-17.wav\n",
            "1-41615-A-34.wav   2-188822-B-40.wav  3-151269-A-35.wav  4-181035-A-38.wav  5-212736-A-17.wav\n",
            "1-4211-A-12.wav    2-188822-C-40.wav  3-151273-A-35.wav  4-181286-A-10.wav  5-213077-A-11.wav\n",
            "1-42139-A-38.wav   2-188822-D-40.wav  3-151557-A-28.wav  4-181362-A-13.wav  5-213293-A-23.wav\n",
            "1-43382-A-1.wav    2-196688-A-8.wav   3-151557-B-28.wav  4-181563-A-12.wav  5-213802-A-12.wav\n",
            "1-43760-A-11.wav   2-205966-A-16.wav  3-152007-A-20.wav  4-181599-A-26.wav  5-213836-A-9.wav\n",
            "1-43764-A-34.wav   2-209471-A-25.wav  3-152007-B-20.wav  4-181628-A-17.wav  5-213836-B-9.wav\n",
            "1-43807-A-47.wav   2-209472-A-25.wav  3-152007-C-20.wav  4-181707-A-32.wav  5-213836-C-9.wav\n",
            "1-43807-B-47.wav   2-209473-A-25.wav  3-152007-D-20.wav  4-181708-A-32.wav  5-213836-D-9.wav\n",
            "1-43807-C-47.wav   2-209474-A-25.wav  3-152007-E-20.wav  4-181865-A-38.wav  5-213855-A-0.wav\n",
            "1-43807-D-47.wav   2-209475-A-25.wav  3-152020-A-36.wav  4-181955-A-3.wav   5-214362-A-17.wav\n",
            "1-44831-A-1.wav    2-209476-A-25.wav  3-152020-B-36.wav  4-181955-B-3.wav   5-214759-A-5.wav\n",
            "1-45641-A-27.wav   2-209477-A-25.wav  3-152020-C-36.wav  4-181955-C-3.wav   5-214759-B-5.wav\n",
            "1-45645-A-31.wav   2-209478-A-25.wav  3-152039-A-3.wav\t 4-181999-A-36.wav  5-214869-A-9.wav\n",
            "1-46040-A-14.wav   2-250710-A-39.wav  3-152039-B-3.wav\t 4-182034-A-30.wav  5-215005-A-32.wav\n",
            "1-46272-A-12.wav   2-25292-A-22.wav   3-152594-A-30.wav  4-182039-A-30.wav  5-215172-A-13.wav\n",
            "1-46274-A-18.wav   2-25293-A-22.wav   3-152912-A-26.wav  4-182041-A-30.wav  5-215179-A-13.wav\n",
            "1-46353-A-49.wav   2-262579-A-45.wav  3-152997-A-26.wav  4-182314-A-7.wav   5-215445-A-47.wav\n",
            "1-46744-A-36.wav   2-28314-A-12.wav   3-153057-A-43.wav  4-182314-B-7.wav   5-215447-A-47.wav\n",
            "1-46938-A-7.wav    2-28314-B-12.wav   3-153444-A-32.wav  4-182368-A-12.wav  5-215449-A-47.wav\n",
            "1-46938-B-7.wav    2-30322-A-12.wav   3-154378-A-30.wav  4-182369-A-12.wav  5-215634-A-17.wav\n",
            "1-47250-A-41.wav   2-30322-B-12.wav   3-154439-A-17.wav  4-182395-A-0.wav   5-215658-A-12.wav\n",
            "1-47250-B-41.wav   2-32515-A-4.wav    3-154758-A-44.wav  4-182613-A-11.wav  5-215658-B-12.wav\n",
            "1-47273-A-21.wav   2-32515-B-4.wav    3-154781-A-32.wav  4-182613-B-11.wav  5-216131-A-32.wav\n",
            "1-47274-A-21.wav   2-32515-C-4.wav    3-154926-A-40.wav  4-182795-A-14.wav  5-216213-A-13.wav\n",
            "1-47709-A-16.wav   2-32515-D-4.wav    3-154926-B-40.wav  4-182839-A-17.wav  5-216214-A-13.wav\n",
            "1-47714-A-16.wav   2-32834-A-4.wav    3-154957-A-1.wav\t 4-183487-A-1.wav   5-216216-A-13.wav\n",
            "1-47819-A-5.wav    2-37806-A-40.wav   3-155130-A-43.wav  4-183882-A-28.wav  5-216368-A-28.wav\n",
            "1-47819-B-5.wav    2-37806-B-40.wav   3-155234-A-43.wav  4-183882-B-28.wav  5-216370-A-41.wav\n",
            "1-47819-C-5.wav    2-37806-C-40.wav   3-155312-A-0.wav\t 4-183992-A-0.wav   5-216370-B-41.wav\n",
            "1-47923-A-28.wav   2-37806-D-40.wav   3-155556-A-31.wav  4-184235-A-28.wav  5-217158-A-0.wav\n",
            "1-48298-A-46.wav   2-37870-A-2.wav    3-155568-A-32.wav  4-184237-A-28.wav  5-217186-A-16.wav\n",
            "1-48413-A-38.wav   2-39441-A-19.wav   3-155570-A-32.wav  4-184434-A-21.wav  5-217186-B-16.wav\n",
            "1-49098-A-35.wav   2-39443-A-19.wav   3-155577-A-14.wav  4-184575-A-0.wav   5-217186-C-16.wav\n",
            "1-49409-A-8.wav    2-39443-B-19.wav   3-155578-A-14.wav  4-185415-A-21.wav  5-218196-A-27.wav\n",
            "1-49409-B-8.wav    2-39945-A-19.wav   3-155579-A-14.wav  4-185575-A-20.wav  5-218196-B-27.wav\n",
            "1-50060-A-10.wav   2-39945-B-19.wav   3-155583-A-14.wav  4-185575-B-20.wav  5-218494-A-22.wav\n",
            "1-50454-A-44.wav   2-39945-C-19.wav   3-155584-A-14.wav  4-185575-C-20.wav  5-218980-A-30.wav\n",
            "1-50455-A-44.wav   2-42101-A-43.wav   3-155642-A-11.wav  4-185613-A-32.wav  5-218981-A-30.wav\n",
            "1-50623-A-15.wav   2-43802-A-42.wav   3-155642-B-11.wav  4-185619-A-21.wav  5-219044-A-46.wav\n",
            "1-50625-A-17.wav   2-43806-A-42.wav   3-155659-A-34.wav  4-186518-A-30.wav  5-219242-A-37.wav\n",
            "1-50661-A-44.wav   2-50665-A-20.wav   3-155766-A-13.wav  4-186693-A-17.wav  5-219242-B-37.wav\n",
            "1-50688-A-17.wav   2-50666-A-20.wav   3-156391-A-35.wav  4-186935-A-44.wav  5-219318-A-31.wav\n",
            "1-51035-A-16.wav   2-50667-A-41.wav   3-156393-A-35.wav  4-186936-A-44.wav  5-219342-A-38.wav\n",
            "1-51036-A-16.wav   2-50667-B-41.wav   3-156558-A-21.wav  4-186938-A-44.wav  5-219379-A-11.wav\n",
            "1-51037-A-16.wav   2-50668-A-41.wav   3-156581-A-14.wav  4-186940-A-44.wav  5-219379-B-11.wav\n",
            "1-51147-A-25.wav   2-50668-B-41.wav   3-156581-B-14.wav  4-186962-A-44.wav  5-219379-C-11.wav\n",
            "1-51170-A-18.wav   2-50774-A-23.wav   3-156907-A-15.wav  4-187284-A-30.wav  5-220026-A-21.wav\n",
            "1-51433-A-17.wav   2-51173-A-35.wav   3-157149-A-10.wav  4-187384-A-34.wav  5-220027-A-21.wav\n",
            "1-51436-A-17.wav   2-51630-A-49.wav   3-157187-A-12.wav  4-187504-A-17.wav  5-220939-A-27.wav\n",
            "1-51805-A-33.wav   2-51630-B-49.wav   3-157487-A-10.wav  4-187504-B-17.wav  5-220955-A-40.wav\n",
            "1-51805-B-33.wav   2-52001-A-28.wav   3-157492-A-45.wav  4-187769-A-14.wav  5-221518-A-21.wav\n",
            "1-51805-C-33.wav   2-52001-B-28.wav   3-157615-A-10.wav  4-187769-B-14.wav  5-221528-A-39.wav\n",
            "1-51805-D-33.wav   2-52085-A-4.wav    3-157695-A-0.wav\t 4-188003-A-34.wav  5-221529-A-39.wav\n",
            "1-51805-E-33.wav   2-52085-B-4.wav    3-158056-A-31.wav  4-188033-A-38.wav  5-221567-A-22.wav\n",
            "1-51805-F-33.wav   2-52789-A-4.wav    3-158056-B-31.wav  4-188191-A-29.wav  5-221568-A-22.wav\n",
            "1-51805-G-33.wav   2-54086-A-43.wav   3-158476-A-12.wav  4-188191-B-29.wav  5-221593-A-21.wav\n",
            "1-51805-H-33.wav   2-54961-A-23.wav   3-159346-A-36.wav  4-188191-C-29.wav  5-221878-A-34.wav\n",
            "1-52266-A-24.wav   2-54962-A-23.wav   3-159346-B-36.wav  4-188287-A-9.wav   5-221950-A-22.wav\n",
            "1-52290-A-30.wav   2-56926-A-46.wav   3-159347-A-36.wav  4-188293-A-15.wav  5-222041-A-9.wav\n",
            "1-52323-A-24.wav   2-57191-A-46.wav   3-159347-B-36.wav  4-188293-B-15.wav  5-222524-A-41.wav\n",
            "1-53444-A-28.wav   2-57733-A-22.wav   3-159348-A-36.wav  4-188595-A-29.wav  5-222894-A-32.wav\n",
            "1-53467-A-47.wav   2-59241-A-35.wav   3-159445-A-45.wav  4-188703-A-8.wav   5-223099-A-32.wav\n",
            "1-53501-A-32.wav   2-59321-A-49.wav   3-159445-B-45.wav  4-188703-B-8.wav   5-223099-B-32.wav\n",
            "1-53663-A-24.wav   2-59565-A-46.wav   3-160119-A-15.wav  4-188703-C-8.wav   5-223103-A-31.wav\n",
            "1-53670-A-18.wav   2-59566-A-46.wav   3-160993-A-3.wav\t 4-188703-D-8.wav   5-223176-A-37.wav\n",
            "1-54065-A-45.wav   2-60180-A-49.wav   3-161010-A-43.wav  4-188878-A-30.wav  5-223317-A-31.wav\n",
            "1-54065-B-45.wav   2-60180-B-49.wav   3-161500-A-17.wav  4-189332-A-37.wav  5-223810-A-35.wav\n",
            "1-54084-A-42.wav   2-60791-A-26.wav   3-162786-A-13.wav  4-189828-A-22.wav  5-231551-A-36.wav\n",
            "1-54505-A-21.wav   2-60794-A-26.wav   3-163288-A-1.wav\t 4-189830-A-22.wav  5-231762-A-0.wav\n",
            "1-54747-A-46.wav   2-60795-A-26.wav   3-163459-A-0.wav\t 4-189832-A-22.wav  5-232272-A-44.wav\n",
            "1-54752-A-18.wav   2-60900-A-22.wav   3-163607-A-13.wav  4-189832-B-22.wav  5-232802-A-31.wav\n",
            "1-54918-A-14.wav   2-61311-A-12.wav   3-163607-B-13.wav  4-189833-A-22.wav  5-232816-A-23.wav\n",
            "1-54918-B-14.wav   2-61618-A-46.wav   3-163727-A-3.wav\t 4-189836-A-22.wav  5-233019-A-31.wav\n",
            "1-54958-A-10.wav   2-62226-A-26.wav   3-164120-A-11.wav  4-189838-A-22.wav  5-233160-A-1.wav\n",
            "1-56233-A-9.wav    2-64332-A-18.wav   3-164216-A-6.wav\t 4-191015-A-43.wav  5-233260-A-23.wav\n",
            "1-56234-A-9.wav    2-64962-A-15.wav   3-164216-B-6.wav\t 4-191246-A-7.wav   5-233312-A-28.wav\n",
            "1-56269-A-18.wav   2-64963-A-15.wav   3-164216-C-6.wav\t 4-191246-B-7.wav   5-233605-A-39.wav\n",
            "1-56270-A-29.wav   2-65484-A-18.wav   3-164592-A-15.wav  4-191297-A-28.wav  5-233607-A-39.wav\n",
            "1-56311-A-10.wav   2-65747-A-12.wav   3-164593-A-15.wav  4-191327-A-38.wav  5-233645-A-37.wav\n",
            "1-56380-A-5.wav    2-65750-A-1.wav    3-164594-A-15.wav  4-191687-A-0.wav   5-233787-A-7.wav\n",
            "1-56380-B-5.wav    2-66205-A-23.wav   3-164595-A-15.wav  4-192068-A-31.wav  5-234145-A-28.wav\n",
            "1-56907-A-46.wav   2-66637-A-20.wav   3-164630-A-11.wav  4-192236-A-0.wav   5-234247-A-37.wav\n",
            "1-57163-A-38.wav   2-66637-B-20.wav   3-164688-A-38.wav  4-193480-A-40.wav  5-234263-A-25.wav\n",
            "1-57316-A-13.wav   2-67422-A-18.wav   3-165856-A-41.wav  4-193480-B-40.wav  5-234335-A-23.wav\n",
            "1-57318-A-13.wav   2-68391-A-41.wav   3-166125-A-23.wav  4-194246-A-13.wav  5-234855-A-25.wav\n",
            "1-57795-A-8.wav    2-68391-B-41.wav   3-166125-B-23.wav  4-194680-A-36.wav  5-234879-A-1.wav\n",
            "1-58277-A-3.wav    2-68595-A-15.wav   3-166324-A-15.wav  4-194711-A-38.wav  5-234879-B-1.wav\n",
            "1-58792-A-24.wav   2-68595-B-15.wav   3-166326-A-15.wav  4-194754-A-0.wav   5-234923-A-32.wav\n",
            "1-58846-A-34.wav   2-69131-A-5.wav    3-166422-A-11.wav  4-194808-A-29.wav  5-235507-A-44.wav\n",
            "1-58923-A-27.wav   2-69131-B-5.wav    3-166546-A-34.wav  4-194979-A-25.wav  5-235593-A-23.wav\n",
            "1-58923-B-27.wav   2-70052-A-42.wav   3-166546-B-34.wav  4-194981-A-25.wav  5-235644-A-30.wav\n",
            "1-59102-A-13.wav   2-70052-B-42.wav   3-167096-A-31.wav  4-195305-A-31.wav  5-235671-A-38.wav\n",
            "1-59324-A-21.wav   2-70280-A-18.wav   3-169907-A-29.wav  4-195451-A-44.wav  5-235874-A-28.wav\n",
            "1-59513-A-0.wav    2-70344-A-33.wav   3-170002-A-34.wav  4-195497-A-11.wav  5-235893-A-28.wav\n",
            "1-5996-A-6.wav\t   2-70366-A-33.wav   3-170015-A-0.wav\t 4-195497-B-11.wav  5-235956-A-47.wav\n",
            "1-60460-A-36.wav   2-70367-A-33.wav   3-170312-A-31.wav  4-195707-A-13.wav  5-236288-A-28.wav\n",
            "1-60676-A-34.wav   2-70936-A-42.wav   3-170377-A-38.wav  4-195805-A-13.wav  5-236299-A-34.wav\n",
            "1-60997-A-20.wav   2-70938-A-42.wav   3-170383-A-38.wav  4-196671-A-8.wav   5-237315-A-31.wav\n",
            "1-60997-B-20.wav   2-70939-A-42.wav   3-170574-A-30.wav  4-196671-B-8.wav   5-237499-A-4.wav\n",
            "1-61212-A-32.wav   2-71162-A-1.wav    3-170851-A-31.wav  4-196672-A-8.wav   5-237795-A-34.wav\n",
            "1-61221-A-17.wav   2-72268-A-6.wav    3-171012-A-38.wav  4-197103-A-6.wav   5-238021-A-35.wav\n",
            "1-61252-A-11.wav   2-72547-A-14.wav   3-171041-A-38.wav  4-197454-A-28.wav  5-238492-A-23.wav\n",
            "1-61261-A-44.wav   2-72547-B-14.wav   3-171281-A-6.wav\t 4-197454-B-28.wav  5-238926-A-31.wav\n",
            "1-61534-A-27.wav   2-72547-C-14.wav   3-171937-A-34.wav  4-197871-A-15.wav  5-238938-A-27.wav\n",
            "1-62509-A-45.wav   2-72547-D-14.wav   3-172179-A-31.wav  4-198025-A-23.wav  5-240671-A-44.wav\n",
            "1-62565-A-44.wav   2-72677-A-18.wav   3-172881-A-48.wav  4-198360-A-49.wav  5-241846-A-15.wav\n",
            "1-62594-A-32.wav   2-72688-A-42.wav   3-172922-A-48.wav  4-198360-B-49.wav  5-242490-A-14.wav\n",
            "1-62849-A-38.wav   2-72970-A-10.wav   3-174840-A-43.wav  4-198360-C-49.wav  5-242491-A-14.wav\n",
            "1-62850-A-38.wav   2-73027-A-10.wav   3-174866-A-29.wav  4-198841-A-37.wav  5-242492-A-3.wav\n",
            "1-63679-A-24.wav   2-7321-A-33.wav    3-177082-A-22.wav  4-198962-A-25.wav  5-242711-A-9.wav\n",
            "1-63871-A-10.wav   2-73260-A-10.wav   3-177083-A-22.wav  4-198962-B-25.wav  5-242932-A-26.wav\n",
            "1-64398-A-41.wav   2-73544-A-27.wav   3-178096-A-6.wav\t 4-198965-A-38.wav  5-242932-B-26.wav\n",
            "1-64398-B-41.wav   2-74361-A-47.wav   3-180147-A-30.wav  4-199261-A-0.wav   5-243025-A-25.wav\n",
            "1-64473-A-45.wav   2-74977-A-18.wav   3-180256-A-0.wav\t 4-200330-A-6.wav   5-243036-A-29.wav\n",
            "1-65483-A-13.wav   2-75726-A-6.wav    3-180977-A-0.wav\t 4-200330-B-6.wav   5-243448-A-14.wav\n",
            "1-67033-A-37.wav   2-76408-A-22.wav   3-181132-A-14.wav  4-201300-A-31.wav  5-243449-A-14.wav\n",
            "1-67152-A-17.wav   2-76408-B-22.wav   3-181278-A-22.wav  4-201800-A-31.wav  5-243450-A-14.wav\n",
            "1-67230-A-29.wav   2-76408-C-22.wav   3-182023-A-30.wav  4-201988-A-44.wav  5-243459-A-14.wav\n",
            "1-67432-A-27.wav   2-76408-D-22.wav   3-182025-A-30.wav  4-202298-A-31.wav  5-243459-B-14.wav\n",
            "1-68628-A-27.wav   2-76868-A-6.wav    3-182710-A-35.wav  4-202749-A-13.wav  5-243635-A-29.wav\n",
            "1-68670-A-34.wav   2-77346-A-46.wav   3-182710-B-35.wav  4-204115-A-39.wav  5-243773-A-44.wav\n",
            "1-68734-A-34.wav   2-77347-A-46.wav   3-185313-A-31.wav  4-204119-A-39.wav  5-243773-B-44.wav\n",
            "1-69165-A-34.wav   2-77945-A-41.wav   3-185456-A-29.wav  4-204121-A-39.wav  5-243783-A-44.wav\n",
            "1-69422-A-3.wav    2-77945-B-41.wav   3-187549-A-6.wav\t 4-204123-A-39.wav  5-244178-A-32.wav\n",
            "1-69641-A-3.wav    2-78381-A-46.wav   3-187549-B-6.wav\t 4-204202-A-29.wav  5-244310-A-25.wav\n",
            "1-69760-A-16.wav   2-78562-A-37.wav   3-187710-A-11.wav  4-204612-A-31.wav  5-244315-A-6.wav\n",
            "1-70300-A-45.wav   2-78562-B-37.wav   3-188390-A-6.wav\t 4-204618-A-11.wav  5-244315-B-6.wav\n",
            "1-7057-A-12.wav    2-78651-A-44.wav   3-188726-A-35.wav  4-204683-A-31.wav  5-244315-C-6.wav\n",
            "1-71030-A-6.wav    2-78781-A-47.wav   3-193767-A-47.wav  4-204684-A-37.wav  5-244327-A-34.wav\n",
            "1-72195-A-37.wav   2-78799-A-47.wav   3-197408-A-8.wav\t 4-204777-A-39.wav  5-244459-A-28.wav\n",
            "1-72195-B-37.wav   2-79769-A-26.wav   3-197408-B-8.wav\t 4-204777-B-39.wav  5-244526-A-26.wav\n",
            "1-72229-A-6.wav    2-79775-A-26.wav   3-197408-C-8.wav\t 4-204777-C-39.wav  5-244651-A-31.wav\n",
            "1-72229-B-6.wav    2-80313-A-28.wav   3-197435-A-22.wav  4-204830-A-6.wav   5-244933-A-34.wav\n",
            "1-72695-A-26.wav   2-80482-A-20.wav   3-197435-B-22.wav  4-205526-A-23.wav  5-245040-A-35.wav\n",
            "1-73123-A-26.wav   2-80844-A-13.wav   3-203371-A-39.wav  4-205526-B-23.wav  5-248341-A-6.wav\n",
            "1-73585-A-7.wav    2-81112-A-34.wav   3-203373-A-39.wav  4-205738-A-22.wav  5-248341-B-6.wav\n",
            "1-74517-A-37.wav   2-81190-A-34.wav   3-203374-A-39.wav  4-207116-A-23.wav  5-248341-C-6.wav\n",
            "1-7456-A-13.wav    2-81270-A-1.wav    3-203375-A-39.wav  4-207124-A-0.wav   5-249748-A-28.wav\n",
            "1-75162-A-9.wav    2-81731-A-10.wav   3-203377-A-39.wav  4-208021-A-1.wav   5-249937-A-22.wav\n",
            "1-75189-A-7.wav    2-81970-A-7.wav    3-20861-A-8.wav\t 4-209536-A-37.wav  5-250026-A-30.wav\n",
            "1-75190-A-8.wav    2-81970-B-7.wav    3-208820-A-49.wav  4-209698-A-37.wav  5-250026-B-30.wav\n",
            "1-76831-A-42.wav   2-81970-C-7.wav    3-216280-A-39.wav  4-210000-A-23.wav  5-250258-A-49.wav\n",
            "1-76831-B-42.wav   2-82071-A-27.wav   3-216281-A-39.wav  4-210000-B-23.wav  5-250629-A-37.wav\n",
            "1-76831-C-42.wav   2-82077-A-7.wav    3-216284-A-39.wav  4-210309-A-31.wav  5-250753-A-34.wav\n",
            "1-76831-D-42.wav   2-82274-A-5.wav    3-233151-A-2.wav\t 4-210593-A-29.wav  5-251426-A-30.wav\n",
            "1-76831-E-42.wav   2-82274-B-5.wav    3-243726-A-43.wav  4-211502-A-30.wav  5-251426-B-30.wav\n",
            "1-77160-A-3.wav    2-82367-A-10.wav   3-246513-A-16.wav  4-212604-A-15.wav  5-251489-A-24.wav\n",
            "1-77241-A-3.wav    2-82455-A-23.wav   3-246513-B-16.wav  4-212604-B-15.wav  5-251957-A-47.wav\n",
            "1-79113-A-5.wav    2-82538-A-21.wav   3-249913-A-25.wav  4-212604-C-15.wav  5-251962-A-47.wav\n",
            "1-79146-A-29.wav   2-83270-A-13.wav   3-251617-A-48.wav  4-212698-A-39.wav  5-251963-A-47.wav\n",
            "1-79220-A-17.wav   2-83536-A-27.wav   3-253081-A-2.wav\t 4-212728-A-34.wav  5-251971-A-47.wav\n",
            "1-79236-A-36.wav   2-83667-A-34.wav   3-253084-A-2.wav\t 4-213193-A-29.wav  5-252248-A-34.wav\n",
            "1-79711-A-32.wav   2-83688-A-34.wav   3-253084-B-2.wav\t 4-213915-A-3.wav   5-253085-A-3.wav\n",
            "1-7973-A-7.wav\t   2-83934-A-5.wav    3-253084-C-2.wav\t 4-213915-B-3.wav   5-253085-B-3.wav\n",
            "1-7974-A-49.wav    2-83934-B-5.wav    3-253084-D-2.wav\t 4-213915-C-3.wav   5-253094-A-49.wav\n",
            "1-7974-B-49.wav    2-84693-A-49.wav   3-253084-E-2.wav\t 4-215635-A-34.wav  5-253094-B-49.wav\n",
            "1-80785-A-7.wav    2-84943-A-18.wav   3-257858-A-2.wav\t 4-216211-A-14.wav  5-253094-C-49.wav\n",
            "1-80840-A-13.wav   2-84965-A-23.wav   3-259622-A-44.wav  4-216349-A-34.wav  5-253094-D-49.wav\n",
            "1-80841-A-13.wav   2-85139-A-13.wav   3-51376-A-42.wav\t 4-218199-A-35.wav  5-253101-A-49.wav\n",
            "1-81001-A-30.wav   2-85292-A-24.wav   3-51731-A-42.wav\t 4-218199-B-35.wav  5-253101-B-49.wav\n",
            "1-81001-B-30.wav   2-85434-A-27.wav   3-51731-B-42.wav\t 4-218199-C-35.wav  5-253101-C-49.wav\n",
            "1-81269-A-3.wav    2-85471-A-34.wav   3-51909-A-42.wav\t 4-218199-D-35.wav  5-253534-A-26.wav\n",
            "1-81851-A-31.wav   2-85945-A-18.wav   3-51909-B-42.wav\t 4-218199-E-35.wav  5-254160-A-22.wav\n",
            "1-81883-A-21.wav   2-86160-A-27.wav   3-58772-A-42.wav\t 4-218199-F-35.wav  5-254832-A-15.wav\n",
            "1-82817-A-30.wav   2-87282-A-34.wav   3-62878-A-42.wav\t 4-218199-G-35.wav  5-254832-B-15.wav\n",
            "1-84393-A-32.wav   2-87412-A-24.wav   3-62878-B-42.wav\t 4-218199-H-35.wav  5-256452-A-5.wav\n",
            "1-84536-A-39.wav   2-87780-A-33.wav   3-65748-A-12.wav\t 4-218304-A-25.wav  5-256512-A-30.wav\n",
            "1-84704-A-39.wav   2-87781-A-10.wav   3-68630-A-40.wav\t 4-218304-B-25.wav  5-257349-A-15.wav\n",
            "1-84705-A-39.wav   2-87794-A-24.wav   3-68630-B-40.wav\t 4-223125-A-14.wav  5-257642-A-39.wav\n",
            "1-85123-A-31.wav   2-87795-A-24.wav   3-68630-C-40.wav\t 4-223127-A-14.wav  5-257839-A-14.wav\n",
            "1-85168-A-39.wav   2-87799-A-24.wav   3-70962-A-4.wav\t 4-232495-A-6.wav   5-259169-A-5.wav\n",
            "1-85184-A-39.wav   2-88724-A-38.wav   3-70962-B-4.wav\t 4-234644-A-2.wav   5-259180-A-15.wav\n",
            "1-85362-A-0.wav    2-89516-A-37.wav   3-70962-C-4.wav\t 4-234879-A-6.wav   5-259514-A-26.wav\n",
            "1-85909-A-29.wav   2-91912-A-33.wav   3-71964-A-4.wav\t 4-244318-A-6.wav   5-259640-A-29.wav\n",
            "1-87565-A-29.wav   2-91912-B-33.wav   3-71964-B-4.wav\t 4-250864-A-8.wav   5-260011-A-34.wav\n",
            "1-88409-A-45.wav   2-92627-A-27.wav   3-71964-C-4.wav\t 4-250869-A-2.wav   5-260164-A-23.wav\n",
            "1-88409-B-45.wav   2-92978-A-29.wav   3-83527-A-4.wav\t 4-250869-B-2.wav   5-260432-A-39.wav\n",
            "1-88574-A-8.wav    2-93030-A-21.wav   3-87936-A-46.wav\t 4-250869-C-2.wav   5-260433-A-39.wav\n",
            "1-88807-A-39.wav   2-94230-A-27.wav   3-87936-B-46.wav\t 4-251645-A-49.wav  5-260434-A-39.wav\n",
            "1-90797-A-15.wav   2-94807-A-29.wav   3-92637-A-18.wav\t 4-251645-B-49.wav  5-260875-A-35.wav\n",
            "1-91359-A-11.wav   2-95035-A-1.wav    3-93010-A-18.wav\t 4-251959-A-47.wav  5-261325-A-9.wav\n",
            "1-91359-B-11.wav   2-95258-A-1.wav    3-94342-A-25.wav\t 4-253649-A-6.wav   5-261433-A-15.wav\n",
            "1-94036-A-22.wav   2-95258-B-1.wav    3-94343-A-25.wav\t 4-255371-A-47.wav  5-261439-A-15.wav\n",
            "1-94231-A-32.wav   2-95567-A-23.wav   3-94344-A-25.wav\t 4-261068-A-30.wav  5-261464-A-23.wav\n",
            "1-94231-B-32.wav   2-96033-A-13.wav   3-94355-A-33.wav\t 4-264453-A-34.wav  5-262641-A-15.wav\n",
            "1-95563-A-31.wav   2-96063-A-37.wav   3-95694-A-5.wav\t 4-59579-A-20.wav   5-262957-A-22.wav\n",
            "1-96890-A-37.wav   2-96460-A-1.wav    3-95695-A-5.wav\t 4-59579-B-20.wav   5-263490-A-25.wav\n",
            "1-96950-A-9.wav    2-96654-A-47.wav   3-95695-B-5.wav\t 4-67358-A-42.wav   5-263491-A-25.wav\n",
            "1-96950-B-9.wav    2-96904-A-27.wav   3-95697-A-5.wav\t 4-80761-A-42.wav   5-263501-A-25.wav\n",
            "1-97392-A-0.wav    2-98392-A-23.wav   3-95698-A-5.wav\t 4-90014-A-42.wav   5-263775-A-26.wav\n",
            "1-97793-A-31.wav   2-98676-A-24.wav   3-96606-A-49.wav\t 4-90014-B-42.wav   5-263775-B-26.wav\n",
            "1-977-A-39.wav\t   2-98866-A-47.wav   3-96606-B-49.wav\t 4-99193-A-4.wav    5-263831-A-6.wav\n",
            "1-9841-A-13.wav    2-99795-A-32.wav   3-97909-A-49.wav\t 4-99193-B-4.wav    5-263831-B-6.wav\n",
            "1-9886-A-49.wav    2-99796-A-32.wav   3-97909-B-49.wav\t 4-99644-A-4.wav    5-263902-A-36.wav\n",
            "1-9887-A-49.wav    2-99955-A-7.wav    3-98193-A-46.wav\t 4-99644-B-4.wav    5-51149-A-25.wav\n",
            "1-9887-B-49.wav    2-99955-B-7.wav    3-98771-A-18.wav\t 4-99644-C-4.wav    5-61635-A-8.wav\n",
            "1-99958-A-31.wav   2-99955-C-7.wav    3-98869-A-46.wav\t 4-99644-D-4.wav    5-9032-A-0.wav\n"
          ]
        }
      ]
    },
    {
      "cell_type": "code",
      "source": [
        "import scipy.io.wavfile as wavfile\n",
        "\n",
        "freq, waveform_arr = wavfile.read('audio/1-100038-A-14.wav')\n",
        "waveform = torch.from_numpy(waveform_arr).float()\n",
        "waveform.shape"
      ],
      "metadata": {
        "colab": {
          "base_uri": "https://localhost:8080/",
          "height": 332
        },
        "collapsed": true,
        "id": "HPpFbAjwZk11",
        "outputId": "048ad56d-3f2d-4f37-e5df-9d0b27317de9"
      },
      "execution_count": 4,
      "outputs": [
        {
          "output_type": "error",
          "ename": "FileNotFoundError",
          "evalue": "[Errno 2] No such file or directory: 'audio/1-100038-A-14.wav'",
          "traceback": [
            "\u001b[0;31m---------------------------------------------------------------------------\u001b[0m",
            "\u001b[0;31mFileNotFoundError\u001b[0m                         Traceback (most recent call last)",
            "\u001b[0;32m<ipython-input-4-8e8dd8fe3b2f>\u001b[0m in \u001b[0;36m<cell line: 0>\u001b[0;34m()\u001b[0m\n\u001b[1;32m      1\u001b[0m \u001b[0;32mimport\u001b[0m \u001b[0mscipy\u001b[0m\u001b[0;34m.\u001b[0m\u001b[0mio\u001b[0m\u001b[0;34m.\u001b[0m\u001b[0mwavfile\u001b[0m \u001b[0;32mas\u001b[0m \u001b[0mwavfile\u001b[0m\u001b[0;34m\u001b[0m\u001b[0;34m\u001b[0m\u001b[0m\n\u001b[1;32m      2\u001b[0m \u001b[0;34m\u001b[0m\u001b[0m\n\u001b[0;32m----> 3\u001b[0;31m \u001b[0mfreq\u001b[0m\u001b[0;34m,\u001b[0m \u001b[0mwaveform_arr\u001b[0m \u001b[0;34m=\u001b[0m \u001b[0mwavfile\u001b[0m\u001b[0;34m.\u001b[0m\u001b[0mread\u001b[0m\u001b[0;34m(\u001b[0m\u001b[0;34m'audio/1-100038-A-14.wav'\u001b[0m\u001b[0;34m)\u001b[0m\u001b[0;34m\u001b[0m\u001b[0;34m\u001b[0m\u001b[0m\n\u001b[0m\u001b[1;32m      4\u001b[0m \u001b[0mwaveform\u001b[0m \u001b[0;34m=\u001b[0m \u001b[0mtorch\u001b[0m\u001b[0;34m.\u001b[0m\u001b[0mfrom_numpy\u001b[0m\u001b[0;34m(\u001b[0m\u001b[0mwaveform_arr\u001b[0m\u001b[0;34m)\u001b[0m\u001b[0;34m.\u001b[0m\u001b[0mfloat\u001b[0m\u001b[0;34m(\u001b[0m\u001b[0;34m)\u001b[0m\u001b[0;34m\u001b[0m\u001b[0;34m\u001b[0m\u001b[0m\n\u001b[1;32m      5\u001b[0m \u001b[0mwaveform\u001b[0m\u001b[0;34m.\u001b[0m\u001b[0mshape\u001b[0m\u001b[0;34m\u001b[0m\u001b[0;34m\u001b[0m\u001b[0m\n",
            "\u001b[0;32m/usr/local/lib/python3.11/dist-packages/scipy/io/wavfile.py\u001b[0m in \u001b[0;36mread\u001b[0;34m(filename, mmap)\u001b[0m\n\u001b[1;32m    645\u001b[0m         \u001b[0mmmap\u001b[0m \u001b[0;34m=\u001b[0m \u001b[0;32mFalse\u001b[0m\u001b[0;34m\u001b[0m\u001b[0;34m\u001b[0m\u001b[0m\n\u001b[1;32m    646\u001b[0m     \u001b[0;32melse\u001b[0m\u001b[0;34m:\u001b[0m\u001b[0;34m\u001b[0m\u001b[0;34m\u001b[0m\u001b[0m\n\u001b[0;32m--> 647\u001b[0;31m         \u001b[0mfid\u001b[0m \u001b[0;34m=\u001b[0m \u001b[0mopen\u001b[0m\u001b[0;34m(\u001b[0m\u001b[0mfilename\u001b[0m\u001b[0;34m,\u001b[0m \u001b[0;34m'rb'\u001b[0m\u001b[0;34m)\u001b[0m\u001b[0;34m\u001b[0m\u001b[0;34m\u001b[0m\u001b[0m\n\u001b[0m\u001b[1;32m    648\u001b[0m \u001b[0;34m\u001b[0m\u001b[0m\n\u001b[1;32m    649\u001b[0m     \u001b[0;32mtry\u001b[0m\u001b[0;34m:\u001b[0m\u001b[0;34m\u001b[0m\u001b[0;34m\u001b[0m\u001b[0m\n",
            "\u001b[0;31mFileNotFoundError\u001b[0m: [Errno 2] No such file or directory: 'audio/1-100038-A-14.wav'"
          ]
        }
      ]
    },
    {
      "cell_type": "code",
      "source": [
        "from scipy import signal\n",
        "f_arr, t_arr , spec_arr = signal.spectrogram(waveform_arr,freq)\n",
        "sp_mono = torch.from_numpy(spec_arr)\n",
        "sp_mono.shape"
      ],
      "metadata": {
        "colab": {
          "base_uri": "https://localhost:8080/",
          "height": 193
        },
        "collapsed": true,
        "id": "EJ0aM1dvctw9",
        "outputId": "07b315a9-1e93-4e08-840f-0690247357d5"
      },
      "execution_count": 3,
      "outputs": [
        {
          "output_type": "error",
          "ename": "NameError",
          "evalue": "name 'waveform_arr' is not defined",
          "traceback": [
            "\u001b[0;31m---------------------------------------------------------------------------\u001b[0m",
            "\u001b[0;31mNameError\u001b[0m                                 Traceback (most recent call last)",
            "\u001b[0;32m<ipython-input-3-33d7971c5e84>\u001b[0m in \u001b[0;36m<cell line: 0>\u001b[0;34m()\u001b[0m\n\u001b[1;32m      1\u001b[0m \u001b[0;32mfrom\u001b[0m \u001b[0mscipy\u001b[0m \u001b[0;32mimport\u001b[0m \u001b[0msignal\u001b[0m\u001b[0;34m\u001b[0m\u001b[0;34m\u001b[0m\u001b[0m\n\u001b[0;32m----> 2\u001b[0;31m \u001b[0mf_arr\u001b[0m\u001b[0;34m,\u001b[0m \u001b[0mt_arr\u001b[0m \u001b[0;34m,\u001b[0m \u001b[0mspec_arr\u001b[0m \u001b[0;34m=\u001b[0m \u001b[0msignal\u001b[0m\u001b[0;34m.\u001b[0m\u001b[0mspectrogram\u001b[0m\u001b[0;34m(\u001b[0m\u001b[0mwaveform_arr\u001b[0m\u001b[0;34m,\u001b[0m\u001b[0mfreq\u001b[0m\u001b[0;34m)\u001b[0m\u001b[0;34m\u001b[0m\u001b[0;34m\u001b[0m\u001b[0m\n\u001b[0m\u001b[1;32m      3\u001b[0m \u001b[0msp_mono\u001b[0m \u001b[0;34m=\u001b[0m \u001b[0mtorch\u001b[0m\u001b[0;34m.\u001b[0m\u001b[0mfrom_numpy\u001b[0m\u001b[0;34m(\u001b[0m\u001b[0mspec_arr\u001b[0m\u001b[0;34m)\u001b[0m\u001b[0;34m\u001b[0m\u001b[0;34m\u001b[0m\u001b[0m\n\u001b[1;32m      4\u001b[0m \u001b[0msp_mono\u001b[0m\u001b[0;34m.\u001b[0m\u001b[0mshape\u001b[0m\u001b[0;34m\u001b[0m\u001b[0;34m\u001b[0m\u001b[0m\n",
            "\u001b[0;31mNameError\u001b[0m: name 'waveform_arr' is not defined"
          ]
        }
      ]
    },
    {
      "cell_type": "code",
      "source": [
        "# if we got two channels\n",
        "sp_left = sp_right = spec_arr\n",
        "sp_left_t = torch.from_numpy(sp_left)\n",
        "sp_right_t = torch.from_numpy(sp_right)\n",
        "\n",
        "sp_t = torch.stack((sp_left_t, sp_right_t), dim=0)\n",
        "sp_t.shape"
      ],
      "metadata": {
        "colab": {
          "base_uri": "https://localhost:8080/",
          "height": 211
        },
        "collapsed": true,
        "id": "YxiyPeyHfnIX",
        "outputId": "0375a0da-7446-4bd0-b9bf-bf45abcb09d0"
      },
      "execution_count": 2,
      "outputs": [
        {
          "output_type": "error",
          "ename": "NameError",
          "evalue": "name 'spec_arr' is not defined",
          "traceback": [
            "\u001b[0;31m---------------------------------------------------------------------------\u001b[0m",
            "\u001b[0;31mNameError\u001b[0m                                 Traceback (most recent call last)",
            "\u001b[0;32m<ipython-input-2-2b885ffe695e>\u001b[0m in \u001b[0;36m<cell line: 0>\u001b[0;34m()\u001b[0m\n\u001b[1;32m      1\u001b[0m \u001b[0;31m# if we got two channels\u001b[0m\u001b[0;34m\u001b[0m\u001b[0;34m\u001b[0m\u001b[0m\n\u001b[0;32m----> 2\u001b[0;31m \u001b[0msp_left\u001b[0m \u001b[0;34m=\u001b[0m \u001b[0msp_right\u001b[0m \u001b[0;34m=\u001b[0m \u001b[0mspec_arr\u001b[0m\u001b[0;34m\u001b[0m\u001b[0;34m\u001b[0m\u001b[0m\n\u001b[0m\u001b[1;32m      3\u001b[0m \u001b[0msp_left_t\u001b[0m \u001b[0;34m=\u001b[0m \u001b[0mtorch\u001b[0m\u001b[0;34m.\u001b[0m\u001b[0mfrom_numpy\u001b[0m\u001b[0;34m(\u001b[0m\u001b[0msp_left\u001b[0m\u001b[0;34m)\u001b[0m\u001b[0;34m\u001b[0m\u001b[0;34m\u001b[0m\u001b[0m\n\u001b[1;32m      4\u001b[0m \u001b[0msp_right_t\u001b[0m \u001b[0;34m=\u001b[0m \u001b[0mtorch\u001b[0m\u001b[0;34m.\u001b[0m\u001b[0mfrom_numpy\u001b[0m\u001b[0;34m(\u001b[0m\u001b[0msp_right\u001b[0m\u001b[0;34m)\u001b[0m\u001b[0;34m\u001b[0m\u001b[0;34m\u001b[0m\u001b[0m\n\u001b[1;32m      5\u001b[0m \u001b[0;34m\u001b[0m\u001b[0m\n",
            "\u001b[0;31mNameError\u001b[0m: name 'spec_arr' is not defined"
          ]
        }
      ]
    },
    {
      "cell_type": "code",
      "source": [],
      "metadata": {
        "id": "D9ZhI-CJgnPg"
      },
      "execution_count": null,
      "outputs": []
    }
  ]
}